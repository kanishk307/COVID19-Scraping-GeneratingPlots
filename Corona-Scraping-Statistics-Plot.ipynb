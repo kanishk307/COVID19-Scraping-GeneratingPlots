{
 "cells": [
  {
   "cell_type": "code",
   "execution_count": 243,
   "metadata": {},
   "outputs": [],
   "source": [
    "import requests\n",
    "from bs4 import BeautifulSoup\n",
    "import pandas as pd\n",
    "import csv\n",
    "from matplotlib import pyplot as plt\n",
    "from matplotlib import style\n",
    "import numpy as np\n",
    "#import plotly.express as px"
   ]
  },
  {
   "cell_type": "code",
   "execution_count": 244,
   "metadata": {},
   "outputs": [],
   "source": [
    "url = 'https://www.worldometers.info/coronavirus/'"
   ]
  },
  {
   "cell_type": "code",
   "execution_count": 245,
   "metadata": {},
   "outputs": [],
   "source": [
    "headers = {'User-Agent':'Mozilla/5.0'}"
   ]
  },
  {
   "cell_type": "code",
   "execution_count": 246,
   "metadata": {},
   "outputs": [],
   "source": [
    "response = requests.get(url, headers=headers)"
   ]
  },
  {
   "cell_type": "markdown",
   "metadata": {},
   "source": []
  },
  {
   "cell_type": "code",
   "execution_count": 247,
   "metadata": {},
   "outputs": [
    {
     "data": {
      "text/plain": [
       "200"
      ]
     },
     "execution_count": 247,
     "metadata": {},
     "output_type": "execute_result"
    }
   ],
   "source": [
    "response.status_code"
   ]
  },
  {
   "cell_type": "code",
   "execution_count": 248,
   "metadata": {},
   "outputs": [],
   "source": [
    "soup = BeautifulSoup(response.content, 'html.parser')"
   ]
  },
  {
   "cell_type": "code",
   "execution_count": 249,
   "metadata": {},
   "outputs": [],
   "source": [
    "main_table = soup.find(id='main_table_countries_today')"
   ]
  },
  {
   "cell_type": "code",
   "execution_count": 250,
   "metadata": {},
   "outputs": [],
   "source": [
    "# type(main_table)"
   ]
  },
  {
   "cell_type": "code",
   "execution_count": 251,
   "metadata": {},
   "outputs": [],
   "source": [
    "\n",
    "# for thead in main_table.find_all('thead'):\n",
    "#     for tr in thead.find_all('tr'):\n",
    "#         with open('testfile.csv','w') as o:\n",
    "#             for th in tr.find_all('th'):\n",
    "#                 print(th.text)\n",
    "#                 w = csv.writer(o)\n",
    "#                 w.writerow([th.text])\n"
   ]
  },
  {
   "cell_type": "code",
   "execution_count": 252,
   "metadata": {},
   "outputs": [],
   "source": [
    "# for thead in main_table.find_all('thead'):\n",
    "#     for tr in thead.find_all('tr'):\n",
    "# #         with open('testfile.csv','w') as o:\n",
    "#         for th in tr.find_all('th'):\n",
    "#             print(th.text+',',end = '')\n",
    "            "
   ]
  },
  {
   "cell_type": "code",
   "execution_count": 253,
   "metadata": {},
   "outputs": [],
   "source": [
    "# with open('testfile.csv','w') as o:\n",
    "#     w = csv.writer(o)\n",
    "#     w.writerow([th.text])\n",
    "#     for r in tr:\n",
    "#         w.writerow([r])\n",
    "    "
   ]
  },
  {
   "cell_type": "code",
   "execution_count": 254,
   "metadata": {},
   "outputs": [],
   "source": [
    "i=0\n",
    "with open('textfile.txt','w') as r:\n",
    "    for tbody in main_table.find_all('tbody'):\n",
    "        for row in tbody.find_all('tr'):\n",
    "            for cell in row.find_all('td'):\n",
    "    #                 cell[0]\n",
    "    #                 print(i)\n",
    "    #                 print(int(cell)%9)\n",
    "                cellText = cell.text.strip()\n",
    "                cellText = cellText.replace(' ','')\n",
    "                cellText = cellText.replace('.','')\n",
    "                cellText = cellText.replace(',','')\n",
    "                cellText = cellText.replace('+','')\n",
    "#                 print(cellText) \n",
    "                r.write(cellText+\" \")\n",
    "            r.write('\\n')\n",
    "    #                 print('\\n')\n",
    "    #                 w = csv.writer(o)\n",
    "    #                 w.writerow([cellText])\n",
    "\n",
    "    #                 if(i==0):\n",
    "    #                     break;\n",
    "    # #                     print('\\n')\n",
    "\n",
    "        #             with open('testfile.csv','w') as o:\n",
    "        #                 w = csv.writer(o)\n",
    "        #                 w.writerow([cell.text]"
   ]
  },
  {
   "cell_type": "code",
   "execution_count": 255,
   "metadata": {},
   "outputs": [],
   "source": [
    "text_file = \"textfile.txt\"\n",
    "csv_file=r\"convertedfile.csv\"\n",
    "\n",
    "in_text = csv.reader(open(text_file,\"r\"), delimiter=' ')\n",
    "out_csv = csv.writer(open(csv_file,\"w\"))\n",
    "\n",
    "out_csv.writerows(in_text)"
   ]
  },
  {
   "cell_type": "code",
   "execution_count": 256,
   "metadata": {},
   "outputs": [],
   "source": [
    "# with open('convertedfile.csv',newline='') as f:\n",
    "#     r=csv.reader(f)\n",
    "#     data = [line for line in r]\n",
    "    \n",
    "# with open ('convertedfile.csv','w',newline='') as f:\n",
    "#     w=csv.writer(f)\n",
    "#     w.writerow([\"Country\",\"Total Cases\",\"New Cases\",\"Total Deaths\",\"New Deaths\",\"Total Recovered\",\"Active Cases\",\"Serious/Critical\",\"Total Cases/1 Population\"])\n",
    "#     w.writerows(data)"
   ]
  },
  {
   "cell_type": "code",
   "execution_count": 257,
   "metadata": {},
   "outputs": [],
   "source": [
    "# f = open(csv_file,\"w\")\n",
    "# writer = csv.DictWriter(f,fieldnames=[\"Country\",\"Total Cases\",\"New Cases\",\"Total Deaths\",\"New Deaths\",\"Total Recovered\",\"Active Cases\",\"Serious/Critical\",\"Total Cases/1M Population\"])\n",
    "# writer.writeheader()\n",
    "# f.close()"
   ]
  },
  {
   "cell_type": "code",
   "execution_count": 258,
   "metadata": {},
   "outputs": [],
   "source": [
    "# reader = csv.DictReader(open('convertedfile.csv'))\n",
    "# writer = csv.DictWriter(open('cleanfile.csv', 'w'), fieldnames=reader.fieldnames)\n",
    "\n",
    "# for row in reader:\n",
    "#     if all(col != '' for col in row.values()):\n",
    "#         continue\n",
    "\n",
    "#     writer.writerow(row)"
   ]
  },
  {
   "cell_type": "code",
   "execution_count": null,
   "metadata": {},
   "outputs": [],
   "source": []
  },
  {
   "cell_type": "code",
   "execution_count": 259,
   "metadata": {},
   "outputs": [],
   "source": [
    "df = pd.read_csv(csv_file,encoding='iso-8859-1',index_col=0)"
   ]
  },
  {
   "cell_type": "code",
   "execution_count": 260,
   "metadata": {},
   "outputs": [
    {
     "data": {
      "text/plain": [
       "(197, 10)"
      ]
     },
     "execution_count": 260,
     "metadata": {},
     "output_type": "execute_result"
    }
   ],
   "source": [
    "df.shape"
   ]
  },
  {
   "cell_type": "code",
   "execution_count": 261,
   "metadata": {},
   "outputs": [],
   "source": [
    "#df"
   ]
  },
  {
   "cell_type": "code",
   "execution_count": 262,
   "metadata": {},
   "outputs": [],
   "source": [
    "df = df.drop(df.columns[[9]],axis=1)"
   ]
  },
  {
   "cell_type": "code",
   "execution_count": 264,
   "metadata": {},
   "outputs": [],
   "source": [
    "#df"
   ]
  },
  {
   "cell_type": "code",
   "execution_count": 265,
   "metadata": {},
   "outputs": [
    {
     "data": {
      "text/plain": [
       "(197, 9)"
      ]
     },
     "execution_count": 265,
     "metadata": {},
     "output_type": "execute_result"
    }
   ],
   "source": [
    "df.shape"
   ]
  },
  {
   "cell_type": "code",
   "execution_count": 266,
   "metadata": {},
   "outputs": [],
   "source": [
    "df.rename({\"Unnamed: 2\":\"\"}, axis=\"columns\", inplace=True)\n",
    "df.rename({\"Unnamed: 4\":\"\"}, axis=\"columns\", inplace=True)\n",
    "df.rename({\"Unnamed: 9\":\"\"}, axis=\"columns\", inplace=True)\n",
    "df.rename({\"Unnamed: 10\":\"\"}, axis=\"columns\", inplace=True)"
   ]
  },
  {
   "cell_type": "code",
   "execution_count": 267,
   "metadata": {},
   "outputs": [],
   "source": [
    "#df = df.drop(df.columns[[9]],axis=1,inplace=True)"
   ]
  },
  {
   "cell_type": "code",
   "execution_count": 268,
   "metadata": {},
   "outputs": [
    {
     "data": {
      "text/html": [
       "<div>\n",
       "<style scoped>\n",
       "    .dataframe tbody tr th:only-of-type {\n",
       "        vertical-align: middle;\n",
       "    }\n",
       "\n",
       "    .dataframe tbody tr th {\n",
       "        vertical-align: top;\n",
       "    }\n",
       "\n",
       "    .dataframe thead th {\n",
       "        text-align: right;\n",
       "    }\n",
       "</style>\n",
       "<table border=\"1\" class=\"dataframe\">\n",
       "  <thead>\n",
       "    <tr style=\"text-align: right;\">\n",
       "      <th></th>\n",
       "      <th>81171</th>\n",
       "      <th>78</th>\n",
       "      <th>3277</th>\n",
       "      <th>7</th>\n",
       "      <th>73159</th>\n",
       "      <th>4735</th>\n",
       "      <th>1573</th>\n",
       "      <th>56</th>\n",
       "      <th>2</th>\n",
       "    </tr>\n",
       "    <tr>\n",
       "      <th>China</th>\n",
       "      <th></th>\n",
       "      <th></th>\n",
       "      <th></th>\n",
       "      <th></th>\n",
       "      <th></th>\n",
       "      <th></th>\n",
       "      <th></th>\n",
       "      <th></th>\n",
       "      <th></th>\n",
       "    </tr>\n",
       "  </thead>\n",
       "  <tbody>\n",
       "    <tr>\n",
       "      <th>Italy</th>\n",
       "      <td>69176</td>\n",
       "      <td>5249.0</td>\n",
       "      <td>6820.0</td>\n",
       "      <td>743.0</td>\n",
       "      <td>8326.0</td>\n",
       "      <td>54030</td>\n",
       "      <td>3393.0</td>\n",
       "      <td>1144.0</td>\n",
       "      <td>113.0</td>\n",
       "    </tr>\n",
       "    <tr>\n",
       "      <th>USA</th>\n",
       "      <td>51719</td>\n",
       "      <td>7985.0</td>\n",
       "      <td>667.0</td>\n",
       "      <td>114.0</td>\n",
       "      <td>368.0</td>\n",
       "      <td>50684</td>\n",
       "      <td>1175.0</td>\n",
       "      <td>156.0</td>\n",
       "      <td>2.0</td>\n",
       "    </tr>\n",
       "    <tr>\n",
       "      <th>Spain</th>\n",
       "      <td>39676</td>\n",
       "      <td>4540.0</td>\n",
       "      <td>2800.0</td>\n",
       "      <td>489.0</td>\n",
       "      <td>3794.0</td>\n",
       "      <td>33082</td>\n",
       "      <td>2355.0</td>\n",
       "      <td>849.0</td>\n",
       "      <td>60.0</td>\n",
       "    </tr>\n",
       "    <tr>\n",
       "      <th>Germany</th>\n",
       "      <td>32781</td>\n",
       "      <td>3725.0</td>\n",
       "      <td>156.0</td>\n",
       "      <td>33.0</td>\n",
       "      <td>3243.0</td>\n",
       "      <td>29382</td>\n",
       "      <td>23.0</td>\n",
       "      <td>391.0</td>\n",
       "      <td>2.0</td>\n",
       "    </tr>\n",
       "    <tr>\n",
       "      <th>Iran</th>\n",
       "      <td>24811</td>\n",
       "      <td>1762.0</td>\n",
       "      <td>1934.0</td>\n",
       "      <td>122.0</td>\n",
       "      <td>8913.0</td>\n",
       "      <td>13964</td>\n",
       "      <td>NaN</td>\n",
       "      <td>295.0</td>\n",
       "      <td>23.0</td>\n",
       "    </tr>\n",
       "    <tr>\n",
       "      <th>...</th>\n",
       "      <td>...</td>\n",
       "      <td>...</td>\n",
       "      <td>...</td>\n",
       "      <td>...</td>\n",
       "      <td>...</td>\n",
       "      <td>...</td>\n",
       "      <td>...</td>\n",
       "      <td>...</td>\n",
       "      <td>...</td>\n",
       "    </tr>\n",
       "    <tr>\n",
       "      <th>Somalia</th>\n",
       "      <td>1</td>\n",
       "      <td>NaN</td>\n",
       "      <td>NaN</td>\n",
       "      <td>NaN</td>\n",
       "      <td>NaN</td>\n",
       "      <td>1</td>\n",
       "      <td>NaN</td>\n",
       "      <td>6.0</td>\n",
       "      <td>NaN</td>\n",
       "    </tr>\n",
       "    <tr>\n",
       "      <th>Syria</th>\n",
       "      <td>1</td>\n",
       "      <td>NaN</td>\n",
       "      <td>NaN</td>\n",
       "      <td>NaN</td>\n",
       "      <td>NaN</td>\n",
       "      <td>1</td>\n",
       "      <td>NaN</td>\n",
       "      <td>6.0</td>\n",
       "      <td>NaN</td>\n",
       "    </tr>\n",
       "    <tr>\n",
       "      <th>Timor-Leste</th>\n",
       "      <td>1</td>\n",
       "      <td>NaN</td>\n",
       "      <td>NaN</td>\n",
       "      <td>NaN</td>\n",
       "      <td>NaN</td>\n",
       "      <td>1</td>\n",
       "      <td>NaN</td>\n",
       "      <td>8.0</td>\n",
       "      <td>NaN</td>\n",
       "    </tr>\n",
       "    <tr>\n",
       "      <th>TurksandCaicos</th>\n",
       "      <td>1</td>\n",
       "      <td>NaN</td>\n",
       "      <td>NaN</td>\n",
       "      <td>NaN</td>\n",
       "      <td>NaN</td>\n",
       "      <td>1</td>\n",
       "      <td>NaN</td>\n",
       "      <td>26.0</td>\n",
       "      <td>NaN</td>\n",
       "    </tr>\n",
       "    <tr>\n",
       "      <th>Total:</th>\n",
       "      <td>414702</td>\n",
       "      <td>35920.0</td>\n",
       "      <td>18552.0</td>\n",
       "      <td>2045.0</td>\n",
       "      <td>108293.0</td>\n",
       "      <td>287857</td>\n",
       "      <td>12988.0</td>\n",
       "      <td>532.0</td>\n",
       "      <td>24.0</td>\n",
       "    </tr>\n",
       "  </tbody>\n",
       "</table>\n",
       "<p>197 rows × 9 columns</p>\n",
       "</div>"
      ],
      "text/plain": [
       "                 81171       78     3277       7     73159    4735     1573  \\\n",
       "China                                                                         \n",
       "Italy            69176   5249.0   6820.0   743.0    8326.0   54030   3393.0   \n",
       "USA              51719   7985.0    667.0   114.0     368.0   50684   1175.0   \n",
       "Spain            39676   4540.0   2800.0   489.0    3794.0   33082   2355.0   \n",
       "Germany          32781   3725.0    156.0    33.0    3243.0   29382     23.0   \n",
       "Iran             24811   1762.0   1934.0   122.0    8913.0   13964      NaN   \n",
       "...                ...      ...      ...     ...       ...     ...      ...   \n",
       "Somalia              1      NaN      NaN     NaN       NaN       1      NaN   \n",
       "Syria                1      NaN      NaN     NaN       NaN       1      NaN   \n",
       "Timor-Leste          1      NaN      NaN     NaN       NaN       1      NaN   \n",
       "TurksandCaicos       1      NaN      NaN     NaN       NaN       1      NaN   \n",
       "Total:          414702  35920.0  18552.0  2045.0  108293.0  287857  12988.0   \n",
       "\n",
       "                    56      2  \n",
       "China                          \n",
       "Italy           1144.0  113.0  \n",
       "USA              156.0    2.0  \n",
       "Spain            849.0   60.0  \n",
       "Germany          391.0    2.0  \n",
       "Iran             295.0   23.0  \n",
       "...                ...    ...  \n",
       "Somalia            6.0    NaN  \n",
       "Syria              6.0    NaN  \n",
       "Timor-Leste        8.0    NaN  \n",
       "TurksandCaicos    26.0    NaN  \n",
       "Total:           532.0   24.0  \n",
       "\n",
       "[197 rows x 9 columns]"
      ]
     },
     "execution_count": 268,
     "metadata": {},
     "output_type": "execute_result"
    }
   ],
   "source": [
    "df"
   ]
  },
  {
   "cell_type": "code",
   "execution_count": 269,
   "metadata": {},
   "outputs": [],
   "source": [
    "df.to_csv('modified_df.csv')"
   ]
  },
  {
   "cell_type": "code",
   "execution_count": 270,
   "metadata": {},
   "outputs": [],
   "source": [
    "with open('modified_df.csv',newline='') as f:\n",
    "    r=csv.reader(f)\n",
    "    data = [line for line in r]\n",
    "    \n",
    "with open ('modified_df.csv','w',newline='') as f:\n",
    "    w=csv.writer(f)\n",
    "    w.writerow([\"Country\",\"Total Cases\",\"New Cases\",\"Total Deaths\",\"New Deaths\",\"Total Recovered\",\"Active Cases\",\"Serious/Critical\",\"Total Cases/1 Population\"])\n",
    "    w.writerows(data)"
   ]
  },
  {
   "cell_type": "code",
   "execution_count": 271,
   "metadata": {},
   "outputs": [
    {
     "data": {
      "text/plain": [
       "(197, 9)"
      ]
     },
     "execution_count": 271,
     "metadata": {},
     "output_type": "execute_result"
    }
   ],
   "source": [
    "df.shape"
   ]
  },
  {
   "cell_type": "code",
   "execution_count": 272,
   "metadata": {},
   "outputs": [
    {
     "data": {
      "text/html": [
       "<div>\n",
       "<style scoped>\n",
       "    .dataframe tbody tr th:only-of-type {\n",
       "        vertical-align: middle;\n",
       "    }\n",
       "\n",
       "    .dataframe tbody tr th {\n",
       "        vertical-align: top;\n",
       "    }\n",
       "\n",
       "    .dataframe thead th {\n",
       "        text-align: right;\n",
       "    }\n",
       "</style>\n",
       "<table border=\"1\" class=\"dataframe\">\n",
       "  <thead>\n",
       "    <tr style=\"text-align: right;\">\n",
       "      <th></th>\n",
       "      <th>81171</th>\n",
       "      <th>78</th>\n",
       "      <th>3277</th>\n",
       "      <th>7</th>\n",
       "      <th>73159</th>\n",
       "      <th>4735</th>\n",
       "      <th>1573</th>\n",
       "      <th>56</th>\n",
       "      <th>2</th>\n",
       "    </tr>\n",
       "    <tr>\n",
       "      <th>China</th>\n",
       "      <th></th>\n",
       "      <th></th>\n",
       "      <th></th>\n",
       "      <th></th>\n",
       "      <th></th>\n",
       "      <th></th>\n",
       "      <th></th>\n",
       "      <th></th>\n",
       "      <th></th>\n",
       "    </tr>\n",
       "  </thead>\n",
       "  <tbody>\n",
       "    <tr>\n",
       "      <th>Italy</th>\n",
       "      <td>69176</td>\n",
       "      <td>5249.0</td>\n",
       "      <td>6820.0</td>\n",
       "      <td>743.0</td>\n",
       "      <td>8326.0</td>\n",
       "      <td>54030</td>\n",
       "      <td>3393.0</td>\n",
       "      <td>1144.0</td>\n",
       "      <td>113.0</td>\n",
       "    </tr>\n",
       "    <tr>\n",
       "      <th>USA</th>\n",
       "      <td>51719</td>\n",
       "      <td>7985.0</td>\n",
       "      <td>667.0</td>\n",
       "      <td>114.0</td>\n",
       "      <td>368.0</td>\n",
       "      <td>50684</td>\n",
       "      <td>1175.0</td>\n",
       "      <td>156.0</td>\n",
       "      <td>2.0</td>\n",
       "    </tr>\n",
       "    <tr>\n",
       "      <th>Spain</th>\n",
       "      <td>39676</td>\n",
       "      <td>4540.0</td>\n",
       "      <td>2800.0</td>\n",
       "      <td>489.0</td>\n",
       "      <td>3794.0</td>\n",
       "      <td>33082</td>\n",
       "      <td>2355.0</td>\n",
       "      <td>849.0</td>\n",
       "      <td>60.0</td>\n",
       "    </tr>\n",
       "    <tr>\n",
       "      <th>Germany</th>\n",
       "      <td>32781</td>\n",
       "      <td>3725.0</td>\n",
       "      <td>156.0</td>\n",
       "      <td>33.0</td>\n",
       "      <td>3243.0</td>\n",
       "      <td>29382</td>\n",
       "      <td>23.0</td>\n",
       "      <td>391.0</td>\n",
       "      <td>2.0</td>\n",
       "    </tr>\n",
       "    <tr>\n",
       "      <th>Iran</th>\n",
       "      <td>24811</td>\n",
       "      <td>1762.0</td>\n",
       "      <td>1934.0</td>\n",
       "      <td>122.0</td>\n",
       "      <td>8913.0</td>\n",
       "      <td>13964</td>\n",
       "      <td>NaN</td>\n",
       "      <td>295.0</td>\n",
       "      <td>23.0</td>\n",
       "    </tr>\n",
       "    <tr>\n",
       "      <th>...</th>\n",
       "      <td>...</td>\n",
       "      <td>...</td>\n",
       "      <td>...</td>\n",
       "      <td>...</td>\n",
       "      <td>...</td>\n",
       "      <td>...</td>\n",
       "      <td>...</td>\n",
       "      <td>...</td>\n",
       "      <td>...</td>\n",
       "    </tr>\n",
       "    <tr>\n",
       "      <th>Somalia</th>\n",
       "      <td>1</td>\n",
       "      <td>NaN</td>\n",
       "      <td>NaN</td>\n",
       "      <td>NaN</td>\n",
       "      <td>NaN</td>\n",
       "      <td>1</td>\n",
       "      <td>NaN</td>\n",
       "      <td>6.0</td>\n",
       "      <td>NaN</td>\n",
       "    </tr>\n",
       "    <tr>\n",
       "      <th>Syria</th>\n",
       "      <td>1</td>\n",
       "      <td>NaN</td>\n",
       "      <td>NaN</td>\n",
       "      <td>NaN</td>\n",
       "      <td>NaN</td>\n",
       "      <td>1</td>\n",
       "      <td>NaN</td>\n",
       "      <td>6.0</td>\n",
       "      <td>NaN</td>\n",
       "    </tr>\n",
       "    <tr>\n",
       "      <th>Timor-Leste</th>\n",
       "      <td>1</td>\n",
       "      <td>NaN</td>\n",
       "      <td>NaN</td>\n",
       "      <td>NaN</td>\n",
       "      <td>NaN</td>\n",
       "      <td>1</td>\n",
       "      <td>NaN</td>\n",
       "      <td>8.0</td>\n",
       "      <td>NaN</td>\n",
       "    </tr>\n",
       "    <tr>\n",
       "      <th>TurksandCaicos</th>\n",
       "      <td>1</td>\n",
       "      <td>NaN</td>\n",
       "      <td>NaN</td>\n",
       "      <td>NaN</td>\n",
       "      <td>NaN</td>\n",
       "      <td>1</td>\n",
       "      <td>NaN</td>\n",
       "      <td>26.0</td>\n",
       "      <td>NaN</td>\n",
       "    </tr>\n",
       "    <tr>\n",
       "      <th>Total:</th>\n",
       "      <td>414702</td>\n",
       "      <td>35920.0</td>\n",
       "      <td>18552.0</td>\n",
       "      <td>2045.0</td>\n",
       "      <td>108293.0</td>\n",
       "      <td>287857</td>\n",
       "      <td>12988.0</td>\n",
       "      <td>532.0</td>\n",
       "      <td>24.0</td>\n",
       "    </tr>\n",
       "  </tbody>\n",
       "</table>\n",
       "<p>197 rows × 9 columns</p>\n",
       "</div>"
      ],
      "text/plain": [
       "                 81171       78     3277       7     73159    4735     1573  \\\n",
       "China                                                                         \n",
       "Italy            69176   5249.0   6820.0   743.0    8326.0   54030   3393.0   \n",
       "USA              51719   7985.0    667.0   114.0     368.0   50684   1175.0   \n",
       "Spain            39676   4540.0   2800.0   489.0    3794.0   33082   2355.0   \n",
       "Germany          32781   3725.0    156.0    33.0    3243.0   29382     23.0   \n",
       "Iran             24811   1762.0   1934.0   122.0    8913.0   13964      NaN   \n",
       "...                ...      ...      ...     ...       ...     ...      ...   \n",
       "Somalia              1      NaN      NaN     NaN       NaN       1      NaN   \n",
       "Syria                1      NaN      NaN     NaN       NaN       1      NaN   \n",
       "Timor-Leste          1      NaN      NaN     NaN       NaN       1      NaN   \n",
       "TurksandCaicos       1      NaN      NaN     NaN       NaN       1      NaN   \n",
       "Total:          414702  35920.0  18552.0  2045.0  108293.0  287857  12988.0   \n",
       "\n",
       "                    56      2  \n",
       "China                          \n",
       "Italy           1144.0  113.0  \n",
       "USA              156.0    2.0  \n",
       "Spain            849.0   60.0  \n",
       "Germany          391.0    2.0  \n",
       "Iran             295.0   23.0  \n",
       "...                ...    ...  \n",
       "Somalia            6.0    NaN  \n",
       "Syria              6.0    NaN  \n",
       "Timor-Leste        8.0    NaN  \n",
       "TurksandCaicos    26.0    NaN  \n",
       "Total:           532.0   24.0  \n",
       "\n",
       "[197 rows x 9 columns]"
      ]
     },
     "execution_count": 272,
     "metadata": {},
     "output_type": "execute_result"
    }
   ],
   "source": [
    "df"
   ]
  },
  {
   "cell_type": "code",
   "execution_count": 273,
   "metadata": {},
   "outputs": [],
   "source": [
    "mod_df = pd.read_csv('modified_df.csv',encoding='iso-8859-1',index_col=False)"
   ]
  },
  {
   "cell_type": "code",
   "execution_count": 274,
   "metadata": {},
   "outputs": [],
   "source": [
    "#mod_df"
   ]
  },
  {
   "cell_type": "code",
   "execution_count": 275,
   "metadata": {},
   "outputs": [],
   "source": [
    "top10 = mod_df.head(10)"
   ]
  },
  {
   "cell_type": "code",
   "execution_count": 276,
   "metadata": {},
   "outputs": [
    {
     "data": {
      "text/html": [
       "<div>\n",
       "<style scoped>\n",
       "    .dataframe tbody tr th:only-of-type {\n",
       "        vertical-align: middle;\n",
       "    }\n",
       "\n",
       "    .dataframe tbody tr th {\n",
       "        vertical-align: top;\n",
       "    }\n",
       "\n",
       "    .dataframe thead th {\n",
       "        text-align: right;\n",
       "    }\n",
       "</style>\n",
       "<table border=\"1\" class=\"dataframe\">\n",
       "  <thead>\n",
       "    <tr style=\"text-align: right;\">\n",
       "      <th></th>\n",
       "      <th>Country</th>\n",
       "      <th>Total Cases</th>\n",
       "      <th>New Cases</th>\n",
       "      <th>Total Deaths</th>\n",
       "      <th>New Deaths</th>\n",
       "      <th>Total Recovered</th>\n",
       "      <th>Active Cases</th>\n",
       "      <th>Serious/Critical</th>\n",
       "      <th>Total Cases/1 Population</th>\n",
       "    </tr>\n",
       "  </thead>\n",
       "  <tbody>\n",
       "    <tr>\n",
       "      <th>0</th>\n",
       "      <td>China</td>\n",
       "      <td>81171</td>\n",
       "      <td>78.0</td>\n",
       "      <td>3277.0</td>\n",
       "      <td>7.0</td>\n",
       "      <td>73159.0</td>\n",
       "      <td>4735</td>\n",
       "      <td>1573.0</td>\n",
       "      <td>56.0</td>\n",
       "    </tr>\n",
       "    <tr>\n",
       "      <th>1</th>\n",
       "      <td>Italy</td>\n",
       "      <td>69176</td>\n",
       "      <td>5249.0</td>\n",
       "      <td>6820.0</td>\n",
       "      <td>743.0</td>\n",
       "      <td>8326.0</td>\n",
       "      <td>54030</td>\n",
       "      <td>3393.0</td>\n",
       "      <td>1144.0</td>\n",
       "    </tr>\n",
       "    <tr>\n",
       "      <th>2</th>\n",
       "      <td>USA</td>\n",
       "      <td>51719</td>\n",
       "      <td>7985.0</td>\n",
       "      <td>667.0</td>\n",
       "      <td>114.0</td>\n",
       "      <td>368.0</td>\n",
       "      <td>50684</td>\n",
       "      <td>1175.0</td>\n",
       "      <td>156.0</td>\n",
       "    </tr>\n",
       "    <tr>\n",
       "      <th>3</th>\n",
       "      <td>Spain</td>\n",
       "      <td>39676</td>\n",
       "      <td>4540.0</td>\n",
       "      <td>2800.0</td>\n",
       "      <td>489.0</td>\n",
       "      <td>3794.0</td>\n",
       "      <td>33082</td>\n",
       "      <td>2355.0</td>\n",
       "      <td>849.0</td>\n",
       "    </tr>\n",
       "    <tr>\n",
       "      <th>4</th>\n",
       "      <td>Germany</td>\n",
       "      <td>32781</td>\n",
       "      <td>3725.0</td>\n",
       "      <td>156.0</td>\n",
       "      <td>33.0</td>\n",
       "      <td>3243.0</td>\n",
       "      <td>29382</td>\n",
       "      <td>23.0</td>\n",
       "      <td>391.0</td>\n",
       "    </tr>\n",
       "    <tr>\n",
       "      <th>5</th>\n",
       "      <td>Iran</td>\n",
       "      <td>24811</td>\n",
       "      <td>1762.0</td>\n",
       "      <td>1934.0</td>\n",
       "      <td>122.0</td>\n",
       "      <td>8913.0</td>\n",
       "      <td>13964</td>\n",
       "      <td>NaN</td>\n",
       "      <td>295.0</td>\n",
       "    </tr>\n",
       "    <tr>\n",
       "      <th>6</th>\n",
       "      <td>France</td>\n",
       "      <td>22304</td>\n",
       "      <td>2448.0</td>\n",
       "      <td>1100.0</td>\n",
       "      <td>240.0</td>\n",
       "      <td>3281.0</td>\n",
       "      <td>17923</td>\n",
       "      <td>2516.0</td>\n",
       "      <td>342.0</td>\n",
       "    </tr>\n",
       "    <tr>\n",
       "      <th>7</th>\n",
       "      <td>Switzerland</td>\n",
       "      <td>9877</td>\n",
       "      <td>1082.0</td>\n",
       "      <td>122.0</td>\n",
       "      <td>2.0</td>\n",
       "      <td>131.0</td>\n",
       "      <td>9624</td>\n",
       "      <td>141.0</td>\n",
       "      <td>1141.0</td>\n",
       "    </tr>\n",
       "    <tr>\n",
       "      <th>8</th>\n",
       "      <td>SKorea</td>\n",
       "      <td>9037</td>\n",
       "      <td>76.0</td>\n",
       "      <td>120.0</td>\n",
       "      <td>9.0</td>\n",
       "      <td>3507.0</td>\n",
       "      <td>5410</td>\n",
       "      <td>59.0</td>\n",
       "      <td>176.0</td>\n",
       "    </tr>\n",
       "    <tr>\n",
       "      <th>9</th>\n",
       "      <td>UK</td>\n",
       "      <td>8077</td>\n",
       "      <td>1427.0</td>\n",
       "      <td>422.0</td>\n",
       "      <td>87.0</td>\n",
       "      <td>135.0</td>\n",
       "      <td>7520</td>\n",
       "      <td>20.0</td>\n",
       "      <td>119.0</td>\n",
       "    </tr>\n",
       "  </tbody>\n",
       "</table>\n",
       "</div>"
      ],
      "text/plain": [
       "       Country  Total Cases  New Cases  Total Deaths  New Deaths  \\\n",
       "0        China        81171       78.0        3277.0         7.0   \n",
       "1        Italy        69176     5249.0        6820.0       743.0   \n",
       "2          USA        51719     7985.0         667.0       114.0   \n",
       "3        Spain        39676     4540.0        2800.0       489.0   \n",
       "4      Germany        32781     3725.0         156.0        33.0   \n",
       "5         Iran        24811     1762.0        1934.0       122.0   \n",
       "6       France        22304     2448.0        1100.0       240.0   \n",
       "7  Switzerland         9877     1082.0         122.0         2.0   \n",
       "8       SKorea         9037       76.0         120.0         9.0   \n",
       "9           UK         8077     1427.0         422.0        87.0   \n",
       "\n",
       "   Total Recovered  Active Cases  Serious/Critical  Total Cases/1 Population  \n",
       "0          73159.0          4735            1573.0                      56.0  \n",
       "1           8326.0         54030            3393.0                    1144.0  \n",
       "2            368.0         50684            1175.0                     156.0  \n",
       "3           3794.0         33082            2355.0                     849.0  \n",
       "4           3243.0         29382              23.0                     391.0  \n",
       "5           8913.0         13964               NaN                     295.0  \n",
       "6           3281.0         17923            2516.0                     342.0  \n",
       "7            131.0          9624             141.0                    1141.0  \n",
       "8           3507.0          5410              59.0                     176.0  \n",
       "9            135.0          7520              20.0                     119.0  "
      ]
     },
     "execution_count": 276,
     "metadata": {},
     "output_type": "execute_result"
    }
   ],
   "source": [
    "top10"
   ]
  },
  {
   "cell_type": "code",
   "execution_count": 277,
   "metadata": {},
   "outputs": [],
   "source": [
    "bottom10 = mod_df.tail(10)"
   ]
  },
  {
   "cell_type": "code",
   "execution_count": 278,
   "metadata": {},
   "outputs": [],
   "source": [
    "#bottom10"
   ]
  },
  {
   "cell_type": "code",
   "execution_count": 279,
   "metadata": {},
   "outputs": [],
   "source": [
    "xCountry=top10[\"Country\"]\n",
    "yTotalCases=top10[\"Total Cases\"]"
   ]
  },
  {
   "cell_type": "code",
   "execution_count": 280,
   "metadata": {},
   "outputs": [],
   "source": [
    "plt.rcParams['figure.figsize'] = (14,8)"
   ]
  },
  {
   "cell_type": "code",
   "execution_count": 281,
   "metadata": {},
   "outputs": [
    {
     "data": {
      "text/plain": [
       "<BarContainer object of 10 artists>"
      ]
     },
     "execution_count": 281,
     "metadata": {},
     "output_type": "execute_result"
    },
    {
     "data": {
      "image/png": "[encoded data removed]",
      "text/plain": [
       "<Figure size 1008x576 with 1 Axes>"
      ]
     },
     "metadata": {
      "needs_background": "light"
     },
     "output_type": "display_data"
    }
   ],
   "source": [
    "plt.xlabel('Country')\n",
    "plt.ylabel('Total Cases')\n",
    "plt.bar(xCountry,yTotalCases)\n",
    "#y_pos = [0,10,20,30,40,50,60,70,80,90]\n",
    "#plt.bar(y_pos,y)\n",
    "#plt.xticks(y_pos,x)"
   ]
  },
  {
   "cell_type": "code",
   "execution_count": 282,
   "metadata": {},
   "outputs": [
    {
     "name": "stderr",
     "output_type": "stream",
     "text": [
      "<ipython-input-282-02d8af8884bc>:3: SettingWithCopyWarning: \n",
      "A value is trying to be set on a copy of a slice from a DataFrame\n",
      "\n",
      "See the caveats in the documentation: http://pandas.pydata.org/pandas-docs/stable/user_guide/indexing.html#returning-a-view-versus-a-copy\n",
      "  top10SortedByNewCases = top10.sort_values(by=\"New Cases\",inplace=True,ascending=False)\n"
     ]
    },
    {
     "data": {
      "text/plain": [
       "Text(0, 0.5, 'New Cases')"
      ]
     },
     "execution_count": 282,
     "metadata": {},
     "output_type": "execute_result"
    },
    {
     "data": {
      "image/png": "[encoded data removed]",
      "text/plain": [
       "<Figure size 1008x576 with 1 Axes>"
      ]
     },
     "metadata": {
      "needs_background": "light"
     },
     "output_type": "display_data"
    }
   ],
   "source": [
    "xCountry = top10[\"Country\"]\n",
    "yNewCases = top10[\"New Cases\"]\n",
    "top10SortedByNewCases = top10.sort_values(by=\"New Cases\",inplace=True,ascending=False)\n",
    "top10SortedByNewCasesX = top10.plot(y=\"New Cases\",kind=\"bar\")\n",
    "_ = top10SortedByNewCasesX.set_xticklabels(top10['Country'])\n",
    "plt.xlabel('Country')\n",
    "plt.ylabel('New Cases')"
   ]
  },
  {
   "cell_type": "code",
   "execution_count": 283,
   "metadata": {},
   "outputs": [
    {
     "name": "stderr",
     "output_type": "stream",
     "text": [
      "<ipython-input-283-ad0ed8c33997>:3: SettingWithCopyWarning: \n",
      "A value is trying to be set on a copy of a slice from a DataFrame\n",
      "\n",
      "See the caveats in the documentation: http://pandas.pydata.org/pandas-docs/stable/user_guide/indexing.html#returning-a-view-versus-a-copy\n",
      "  top10SortedByTotalDeaths = top10.sort_values(by=\"Total Deaths\",inplace=True,ascending=False)\n"
     ]
    },
    {
     "data": {
      "text/plain": [
       "Text(0, 0.5, 'Total Deaths')"
      ]
     },
     "execution_count": 283,
     "metadata": {},
     "output_type": "execute_result"
    },
    {
     "data": {
      "image/png": "[encoded data removed]",
      "text/plain": [
       "<Figure size 1008x576 with 1 Axes>"
      ]
     },
     "metadata": {
      "needs_background": "light"
     },
     "output_type": "display_data"
    }
   ],
   "source": [
    "xCountry = top10[\"Country\"]\n",
    "yTotalDeaths = top10[\"Total Deaths\"]\n",
    "top10SortedByTotalDeaths = top10.sort_values(by=\"Total Deaths\",inplace=True,ascending=False)\n",
    "top10SortedByTotalDeathsX = top10.plot(y=\"Total Deaths\",kind=\"bar\")\n",
    "_ = top10SortedByTotalDeathsX.set_xticklabels(top10['Country'])\n",
    "plt.xlabel('Country')\n",
    "plt.ylabel('Total Deaths')"
   ]
  },
  {
   "cell_type": "code",
   "execution_count": 284,
   "metadata": {},
   "outputs": [
    {
     "name": "stderr",
     "output_type": "stream",
     "text": [
      "<ipython-input-284-21bd7822e861>:3: SettingWithCopyWarning: \n",
      "A value is trying to be set on a copy of a slice from a DataFrame\n",
      "\n",
      "See the caveats in the documentation: http://pandas.pydata.org/pandas-docs/stable/user_guide/indexing.html#returning-a-view-versus-a-copy\n",
      "  top10SortedByNewDeaths = top10.sort_values(by=\"New Deaths\",inplace=True,ascending=False)\n"
     ]
    },
    {
     "data": {
      "text/plain": [
       "Text(0, 0.5, 'New Deaths')"
      ]
     },
     "execution_count": 284,
     "metadata": {},
     "output_type": "execute_result"
    },
    {
     "data": {
      "image/png": "[encoded data removed]",
      "text/plain": [
       "<Figure size 1008x576 with 1 Axes>"
      ]
     },
     "metadata": {
      "needs_background": "light"
     },
     "output_type": "display_data"
    }
   ],
   "source": [
    "xCountry = top10[\"Country\"]\n",
    "yNewDeaths = top10[\"New Deaths\"]\n",
    "top10SortedByNewDeaths = top10.sort_values(by=\"New Deaths\",inplace=True,ascending=False)\n",
    "top10SortedByNewDeathsX = top10.plot(y=\"New Deaths\",kind=\"bar\")\n",
    "_ = top10SortedByNewDeathsX.set_xticklabels(top10['Country'])\n",
    "plt.xlabel('Country')\n",
    "plt.ylabel('New Deaths')"
   ]
  },
  {
   "cell_type": "code",
   "execution_count": 285,
   "metadata": {},
   "outputs": [],
   "source": [
    "# plt.xlabel('Country')\n",
    "# plt.ylabel('New Cases')\n",
    "# plt.bar(xCountry,yNewCases)"
   ]
  },
  {
   "cell_type": "code",
   "execution_count": 286,
   "metadata": {},
   "outputs": [
    {
     "name": "stderr",
     "output_type": "stream",
     "text": [
      "<ipython-input-286-616a9c402fe6>:3: SettingWithCopyWarning: \n",
      "A value is trying to be set on a copy of a slice from a DataFrame\n",
      "\n",
      "See the caveats in the documentation: http://pandas.pydata.org/pandas-docs/stable/user_guide/indexing.html#returning-a-view-versus-a-copy\n",
      "  top10SortedByTotalRecovered = top10.sort_values(by=\"Total Recovered\",inplace=True,ascending=False)\n"
     ]
    },
    {
     "data": {
      "text/plain": [
       "Text(0, 0.5, 'Total Recovered')"
      ]
     },
     "execution_count": 286,
     "metadata": {},
     "output_type": "execute_result"
    },
    {
     "data": {
      "image/png": "[encoded data removed]",
      "text/plain": [
       "<Figure size 1008x576 with 1 Axes>"
      ]
     },
     "metadata": {
      "needs_background": "light"
     },
     "output_type": "display_data"
    }
   ],
   "source": [
    "xCountry = top10[\"Country\"]\n",
    "yTotalRecovered = top10[\"Total Recovered\"]\n",
    "top10SortedByTotalRecovered = top10.sort_values(by=\"Total Recovered\",inplace=True,ascending=False)\n",
    "top10SortedByTotalRecoveredX = top10.plot(y=\"Total Recovered\",kind=\"bar\")\n",
    "_ = top10SortedByTotalRecoveredX.set_xticklabels(top10['Country'])\n",
    "plt.xlabel('Country')\n",
    "plt.ylabel('Total Recovered')"
   ]
  },
  {
   "cell_type": "code",
   "execution_count": 287,
   "metadata": {},
   "outputs": [
    {
     "name": "stderr",
     "output_type": "stream",
     "text": [
      "<ipython-input-287-e20fef2f21ae>:3: SettingWithCopyWarning: \n",
      "A value is trying to be set on a copy of a slice from a DataFrame\n",
      "\n",
      "See the caveats in the documentation: http://pandas.pydata.org/pandas-docs/stable/user_guide/indexing.html#returning-a-view-versus-a-copy\n",
      "  top10SortedByActiveCases = top10.sort_values(by=\"Active Cases\",inplace=True,ascending=False)\n"
     ]
    },
    {
     "data": {
      "text/plain": [
       "Text(0, 0.5, 'Active Cases')"
      ]
     },
     "execution_count": 287,
     "metadata": {},
     "output_type": "execute_result"
    },
    {
     "data": {
      "image/png": "[encoded data removed]",
      "text/plain": [
       "<Figure size 1008x576 with 1 Axes>"
      ]
     },
     "metadata": {
      "needs_background": "light"
     },
     "output_type": "display_data"
    }
   ],
   "source": [
    "xCountry = top10[\"Country\"]\n",
    "yActiveCases = top10[\"Active Cases\"]\n",
    "top10SortedByActiveCases = top10.sort_values(by=\"Active Cases\",inplace=True,ascending=False)\n",
    "top10SortedByActiveCasesX = top10.plot(y=\"Active Cases\",kind=\"bar\")\n",
    "_ = top10SortedByActiveCasesX.set_xticklabels(top10['Country'])\n",
    "plt.xlabel('Country')\n",
    "plt.ylabel('Active Cases')"
   ]
  },
  {
   "cell_type": "code",
   "execution_count": 288,
   "metadata": {},
   "outputs": [
    {
     "name": "stderr",
     "output_type": "stream",
     "text": [
      "<ipython-input-288-e7bd8db66eec>:3: SettingWithCopyWarning: \n",
      "A value is trying to be set on a copy of a slice from a DataFrame\n",
      "\n",
      "See the caveats in the documentation: http://pandas.pydata.org/pandas-docs/stable/user_guide/indexing.html#returning-a-view-versus-a-copy\n",
      "  top10SortedBySeriousCritical = top10.sort_values(by=\"Serious/Critical\",inplace=True,ascending=False)\n"
     ]
    },
    {
     "data": {
      "text/plain": [
       "Text(0, 0.5, 'Serious/Critical')"
      ]
     },
     "execution_count": 288,
     "metadata": {},
     "output_type": "execute_result"
    },
    {
     "data": {
      "image/png": "[encoded data removed]",
      "text/plain": [
       "<Figure size 1008x576 with 1 Axes>"
      ]
     },
     "metadata": {
      "needs_background": "light"
     },
     "output_type": "display_data"
    }
   ],
   "source": [
    "xCountry = top10[\"Country\"]\n",
    "ySeriousCritical = top10[\"Serious/Critical\"]\n",
    "top10SortedBySeriousCritical = top10.sort_values(by=\"Serious/Critical\",inplace=True,ascending=False)\n",
    "top10SortedBySeriousCriticalX = top10.plot(y=\"Serious/Critical\",kind=\"bar\")\n",
    "_ = top10SortedBySeriousCriticalX.set_xticklabels(top10['Country'])\n",
    "plt.xlabel('Country')\n",
    "plt.ylabel('Serious/Critical')"
   ]
  },
  {
   "cell_type": "code",
   "execution_count": null,
   "metadata": {},
   "outputs": [],
   "source": []
  },
  {
   "cell_type": "code",
   "execution_count": 289,
   "metadata": {},
   "outputs": [
    {
     "name": "stderr",
     "output_type": "stream",
     "text": [
      "<ipython-input-289-bde5fa876759>:3: SettingWithCopyWarning: \n",
      "A value is trying to be set on a copy of a slice from a DataFrame\n",
      "\n",
      "See the caveats in the documentation: http://pandas.pydata.org/pandas-docs/stable/user_guide/indexing.html#returning-a-view-versus-a-copy\n",
      "  top10SortedByTotalCasesPer1M = top10.sort_values(by=\"Total Cases/1 Population\",inplace=True,ascending=False)\n"
     ]
    },
    {
     "data": {
      "text/plain": [
       "Text(0, 0.5, 'Total Cases/1M Population')"
      ]
     },
     "execution_count": 289,
     "metadata": {},
     "output_type": "execute_result"
    },
    {
     "data": {
      "image/png": "[encoded data removed]",
      "text/plain": [
       "<Figure size 1008x576 with 1 Axes>"
      ]
     },
     "metadata": {
      "needs_background": "light"
     },
     "output_type": "display_data"
    }
   ],
   "source": [
    "xCountry = top10[\"Country\"]\n",
    "ySeriousCritical = top10[\"Total Cases/1 Population\"]\n",
    "top10SortedByTotalCasesPer1M = top10.sort_values(by=\"Total Cases/1 Population\",inplace=True,ascending=False)\n",
    "top10SortedByTotalCasesPer1MX = top10.plot(y=\"Total Cases/1 Population\",kind=\"bar\")\n",
    "_ = top10SortedByTotalCasesPer1MX.set_xticklabels(top10['Country'])\n",
    "plt.xlabel('Country')\n",
    "plt.ylabel('Total Cases/1M Population')"
   ]
  },
  {
   "cell_type": "code",
   "execution_count": null,
   "metadata": {},
   "outputs": [],
   "source": []
  },
  {
   "cell_type": "code",
   "execution_count": null,
   "metadata": {},
   "outputs": [],
   "source": []
  },
  {
   "cell_type": "code",
   "execution_count": null,
   "metadata": {},
   "outputs": [],
   "source": []
  }
 ],
 "metadata": {
  "kernelspec": {
   "display_name": "Python 3",
   "language": "python",
   "name": "python3"
  },
  "language_info": {
   "codemirror_mode": {
    "name": "ipython",
    "version": 3
   },
   "file_extension": ".py",
   "mimetype": "text/x-python",
   "name": "python",
   "nbconvert_exporter": "python",
   "pygments_lexer": "ipython3",
   "version": "3.8.1"
  }
 },
 "nbformat": 4,
 "nbformat_minor": 4
}
