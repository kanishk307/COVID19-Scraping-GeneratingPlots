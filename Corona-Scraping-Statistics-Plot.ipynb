{
 "cells": [
  {
   "cell_type": "code",
   "execution_count": 19,
   "metadata": {},
   "outputs": [],
   "source": [
    "import requests\n",
    "from bs4 import BeautifulSoup\n",
    "import pandas as pd\n",
    "import csv\n",
    "from matplotlib import pyplot as plt\n",
    "from matplotlib import style\n",
    "import numpy as np\n",
    "#import plotly.express as px"
   ]
  },
  {
   "cell_type": "code",
   "execution_count": 20,
   "metadata": {},
   "outputs": [],
   "source": [
    "url = 'https://www.worldometers.info/coronavirus/'"
   ]
  },
  {
   "cell_type": "code",
   "execution_count": 21,
   "metadata": {},
   "outputs": [],
   "source": [
    "headers = {'User-Agent':'Mozilla/5.0'}"
   ]
  },
  {
   "cell_type": "code",
   "execution_count": 22,
   "metadata": {},
   "outputs": [],
   "source": [
    "response = requests.get(url, headers=headers)"
   ]
  },
  {
   "cell_type": "markdown",
   "metadata": {},
   "source": []
  },
  {
   "cell_type": "code",
   "execution_count": 23,
   "metadata": {},
   "outputs": [
    {
     "data": {
      "text/plain": [
       "200"
      ]
     },
     "execution_count": 23,
     "metadata": {},
     "output_type": "execute_result"
    }
   ],
   "source": [
    "response.status_code"
   ]
  },
  {
   "cell_type": "code",
   "execution_count": 24,
   "metadata": {},
   "outputs": [],
   "source": [
    "soup = BeautifulSoup(response.content, 'html.parser')"
   ]
  },
  {
   "cell_type": "code",
   "execution_count": 25,
   "metadata": {},
   "outputs": [],
   "source": [
    "main_table = soup.find(id='main_table_countries_today')"
   ]
  },
  {
   "cell_type": "code",
   "execution_count": 26,
   "metadata": {},
   "outputs": [],
   "source": [
    "# type(main_table)"
   ]
  },
  {
   "cell_type": "code",
   "execution_count": 27,
   "metadata": {},
   "outputs": [],
   "source": [
    "# for thead in main_table.find_all('thead'):\n",
    "#     for tr in thead.find_all('tr'):\n",
    "#         with open('testfile.csv','w') as o:\n",
    "#             for th in tr.find_all('th'):\n",
    "#                 print(th.text)\n",
    "#                 w = csv.writer(o)\n",
    "#                 w.writerow([th.text])\n"
   ]
  },
  {
   "cell_type": "code",
   "execution_count": 28,
   "metadata": {},
   "outputs": [],
   "source": [
    "# for thead in main_table.find_all('thead'):\n",
    "#     for tr in thead.find_all('tr'):\n",
    "# #         with open('testfile.csv','w') as o:\n",
    "#         for th in tr.find_all('th'):\n",
    "#             print(th.text+',',end = '')\n",
    "            "
   ]
  },
  {
   "cell_type": "code",
   "execution_count": 29,
   "metadata": {},
   "outputs": [],
   "source": [
    "# with open('testfile.csv','w') as o:\n",
    "#     w = csv.writer(o)\n",
    "#     w.writerow([th.text])\n",
    "#     for r in tr:\n",
    "#         w.writerow([r])\n",
    "    "
   ]
  },
  {
   "cell_type": "code",
   "execution_count": 30,
   "metadata": {},
   "outputs": [],
   "source": [
    "i=0\n",
    "with open('textfile.txt','w') as r:\n",
    "    for tbody in main_table.find_all('tbody'):\n",
    "        for row in tbody.find_all('tr'):\n",
    "            for cell in row.find_all('td'):\n",
    "    #                 cell[0]\n",
    "    #                 print(i)\n",
    "    #                 print(int(cell)%9)\n",
    "                cellText = cell.text.strip()\n",
    "                cellText = cellText.replace(' ','')\n",
    "                cellText = cellText.replace('.','')\n",
    "                cellText = cellText.replace(',','')\n",
    "                cellText = cellText.replace('+','')\n",
    "#                 print(cellText) \n",
    "                r.write(cellText+\" \")\n",
    "            r.write('\\n')\n",
    "    #                 print('\\n')\n",
    "    #                 w = csv.writer(o)\n",
    "    #                 w.writerow([cellText])\n",
    "\n",
    "    #                 if(i==0):\n",
    "    #                     break;\n",
    "    # #                     print('\\n')\n",
    "\n",
    "        #             with open('testfile.csv','w') as o:\n",
    "        #                 w = csv.writer(o)\n",
    "        #                 w.writerow([cell.text]"
   ]
  },
  {
   "cell_type": "code",
   "execution_count": 31,
   "metadata": {},
   "outputs": [],
   "source": [
    "text_file = \"textfile.txt\"\n",
    "csv_file=r\"convertedfile.csv\"\n",
    "\n",
    "in_text = csv.reader(open(text_file,\"r\"), delimiter=' ')\n",
    "out_csv = csv.writer(open(csv_file,\"w\"))\n",
    "\n",
    "out_csv.writerows(in_text)"
   ]
  },
  {
   "cell_type": "code",
   "execution_count": 32,
   "metadata": {},
   "outputs": [],
   "source": [
    "# with open('convertedfile.csv',newline='') as f:\n",
    "#     r=csv.reader(f)\n",
    "#     data = [line for line in r]\n",
    "    \n",
    "# with open ('convertedfile.csv','w',newline='') as f:\n",
    "#     w=csv.writer(f)\n",
    "#     w.writerow([\"Country\",\"Total Cases\",\"New Cases\",\"Total Deaths\",\"New Deaths\",\"Total Recovered\",\"Active Cases\",\"Serious/Critical\",\"Total Cases/1 Population\"])\n",
    "#     w.writerows(data)"
   ]
  },
  {
   "cell_type": "code",
   "execution_count": 33,
   "metadata": {},
   "outputs": [],
   "source": [
    "# f = open(csv_file,\"w\")\n",
    "# writer = csv.DictWriter(f,fieldnames=[\"Country\",\"Total Cases\",\"New Cases\",\"Total Deaths\",\"New Deaths\",\"Total Recovered\",\"Active Cases\",\"Serious/Critical\",\"Total Cases/1M Population\"])\n",
    "# writer.writeheader()\n",
    "# f.close()"
   ]
  },
  {
   "cell_type": "code",
   "execution_count": 34,
   "metadata": {},
   "outputs": [],
   "source": [
    "# reader = csv.DictReader(open('convertedfile.csv'))\n",
    "# writer = csv.DictWriter(open('cleanfile.csv', 'w'), fieldnames=reader.fieldnames)\n",
    "\n",
    "# for row in reader:\n",
    "#     if all(col != '' for col in row.values()):\n",
    "#         continue\n",
    "\n",
    "#     writer.writerow(row)"
   ]
  },
  {
   "cell_type": "code",
   "execution_count": null,
   "metadata": {},
   "outputs": [],
   "source": []
  },
  {
   "cell_type": "code",
   "execution_count": 35,
   "metadata": {},
   "outputs": [],
   "source": [
    "df = pd.read_csv(csv_file,encoding='iso-8859-1',index_col=0)\n"
   ]
  },
  {
   "cell_type": "code",
   "execution_count": 36,
   "metadata": {},
   "outputs": [],
   "source": [
    "#df.shape"
   ]
  },
  {
   "cell_type": "code",
   "execution_count": 37,
   "metadata": {},
   "outputs": [],
   "source": [
    "#df"
   ]
  },
  {
   "cell_type": "code",
   "execution_count": null,
   "metadata": {},
   "outputs": [],
   "source": []
  },
  {
   "cell_type": "code",
   "execution_count": 38,
   "metadata": {},
   "outputs": [],
   "source": [
    "#df.isnull().sum()"
   ]
  },
  {
   "cell_type": "code",
   "execution_count": 39,
   "metadata": {},
   "outputs": [],
   "source": [
    "#modified_df = df.dropna()"
   ]
  },
  {
   "cell_type": "code",
   "execution_count": 40,
   "metadata": {},
   "outputs": [],
   "source": [
    "df.rename({\"Unnamed: 2\":\"\"}, axis=\"columns\", inplace=True)\n",
    "df.rename({\"Unnamed: 4\":\"\"}, axis=\"columns\", inplace=True)\n",
    "df.rename({\"Unnamed: 9\":\"\"}, axis=\"columns\", inplace=True)"
   ]
  },
  {
   "cell_type": "code",
   "execution_count": 41,
   "metadata": {},
   "outputs": [],
   "source": [
    "#df"
   ]
  },
  {
   "cell_type": "code",
   "execution_count": 42,
   "metadata": {},
   "outputs": [],
   "source": [
    "df.to_csv('modified_df.csv')"
   ]
  },
  {
   "cell_type": "code",
   "execution_count": 43,
   "metadata": {},
   "outputs": [],
   "source": [
    "with open('modified_df.csv',newline='') as f:\n",
    "    r=csv.reader(f)\n",
    "    data = [line for line in r]\n",
    "    \n",
    "with open ('modified_df.csv','w',newline='') as f:\n",
    "    w=csv.writer(f)\n",
    "    w.writerow([\"Country\",\"Total Cases\",\"New Cases\",\"Total Deaths\",\"New Deaths\",\"Total Recovered\",\"Active Cases\",\"Serious/Critical\",\"Total Cases/1 Population\"])\n",
    "    w.writerows(data)"
   ]
  },
  {
   "cell_type": "code",
   "execution_count": 44,
   "metadata": {},
   "outputs": [],
   "source": [
    "mod_df = pd.read_csv('modified_df.csv',encoding='iso-8859-1',index_col=False)"
   ]
  },
  {
   "cell_type": "code",
   "execution_count": 45,
   "metadata": {},
   "outputs": [],
   "source": [
    "#mod_df"
   ]
  },
  {
   "cell_type": "code",
   "execution_count": 46,
   "metadata": {},
   "outputs": [],
   "source": [
    "top10 = mod_df.head(10)"
   ]
  },
  {
   "cell_type": "code",
   "execution_count": 47,
   "metadata": {},
   "outputs": [
    {
     "data": {
      "text/html": [
       "<div>\n",
       "<style scoped>\n",
       "    .dataframe tbody tr th:only-of-type {\n",
       "        vertical-align: middle;\n",
       "    }\n",
       "\n",
       "    .dataframe tbody tr th {\n",
       "        vertical-align: top;\n",
       "    }\n",
       "\n",
       "    .dataframe thead th {\n",
       "        text-align: right;\n",
       "    }\n",
       "</style>\n",
       "<table border=\"1\" class=\"dataframe\">\n",
       "  <thead>\n",
       "    <tr style=\"text-align: right;\">\n",
       "      <th></th>\n",
       "      <th>Country</th>\n",
       "      <th>Total Cases</th>\n",
       "      <th>New Cases</th>\n",
       "      <th>Total Deaths</th>\n",
       "      <th>New Deaths</th>\n",
       "      <th>Total Recovered</th>\n",
       "      <th>Active Cases</th>\n",
       "      <th>Serious/Critical</th>\n",
       "      <th>Total Cases/1 Population</th>\n",
       "    </tr>\n",
       "  </thead>\n",
       "  <tbody>\n",
       "    <tr>\n",
       "      <td>0</td>\n",
       "      <td>China</td>\n",
       "      <td>81093</td>\n",
       "      <td>39.0</td>\n",
       "      <td>3270.0</td>\n",
       "      <td>9.0</td>\n",
       "      <td>72703.0</td>\n",
       "      <td>5120</td>\n",
       "      <td>1749.0</td>\n",
       "      <td>56.0</td>\n",
       "    </tr>\n",
       "    <tr>\n",
       "      <td>1</td>\n",
       "      <td>Italy</td>\n",
       "      <td>63927</td>\n",
       "      <td>4789.0</td>\n",
       "      <td>6077.0</td>\n",
       "      <td>601.0</td>\n",
       "      <td>7432.0</td>\n",
       "      <td>50418</td>\n",
       "      <td>3204.0</td>\n",
       "      <td>1057.0</td>\n",
       "    </tr>\n",
       "    <tr>\n",
       "      <td>2</td>\n",
       "      <td>USA</td>\n",
       "      <td>41569</td>\n",
       "      <td>8023.0</td>\n",
       "      <td>504.0</td>\n",
       "      <td>85.0</td>\n",
       "      <td>187.0</td>\n",
       "      <td>40878</td>\n",
       "      <td>1040.0</td>\n",
       "      <td>126.0</td>\n",
       "    </tr>\n",
       "    <tr>\n",
       "      <td>3</td>\n",
       "      <td>Spain</td>\n",
       "      <td>33089</td>\n",
       "      <td>4321.0</td>\n",
       "      <td>2207.0</td>\n",
       "      <td>435.0</td>\n",
       "      <td>3355.0</td>\n",
       "      <td>27527</td>\n",
       "      <td>2355.0</td>\n",
       "      <td>708.0</td>\n",
       "    </tr>\n",
       "    <tr>\n",
       "      <td>4</td>\n",
       "      <td>Germany</td>\n",
       "      <td>29056</td>\n",
       "      <td>4183.0</td>\n",
       "      <td>118.0</td>\n",
       "      <td>24.0</td>\n",
       "      <td>422.0</td>\n",
       "      <td>28516</td>\n",
       "      <td>23.0</td>\n",
       "      <td>347.0</td>\n",
       "    </tr>\n",
       "    <tr>\n",
       "      <td>5</td>\n",
       "      <td>Iran</td>\n",
       "      <td>23049</td>\n",
       "      <td>1411.0</td>\n",
       "      <td>1812.0</td>\n",
       "      <td>127.0</td>\n",
       "      <td>8376.0</td>\n",
       "      <td>12861</td>\n",
       "      <td>NaN</td>\n",
       "      <td>274.0</td>\n",
       "    </tr>\n",
       "    <tr>\n",
       "      <td>6</td>\n",
       "      <td>France</td>\n",
       "      <td>19856</td>\n",
       "      <td>3838.0</td>\n",
       "      <td>860.0</td>\n",
       "      <td>186.0</td>\n",
       "      <td>2200.0</td>\n",
       "      <td>16796</td>\n",
       "      <td>2082.0</td>\n",
       "      <td>304.0</td>\n",
       "    </tr>\n",
       "    <tr>\n",
       "      <td>7</td>\n",
       "      <td>SKorea</td>\n",
       "      <td>8961</td>\n",
       "      <td>64.0</td>\n",
       "      <td>111.0</td>\n",
       "      <td>7.0</td>\n",
       "      <td>3166.0</td>\n",
       "      <td>5684</td>\n",
       "      <td>59.0</td>\n",
       "      <td>175.0</td>\n",
       "    </tr>\n",
       "    <tr>\n",
       "      <td>8</td>\n",
       "      <td>Switzerland</td>\n",
       "      <td>8547</td>\n",
       "      <td>1073.0</td>\n",
       "      <td>118.0</td>\n",
       "      <td>20.0</td>\n",
       "      <td>131.0</td>\n",
       "      <td>8298</td>\n",
       "      <td>141.0</td>\n",
       "      <td>988.0</td>\n",
       "    </tr>\n",
       "    <tr>\n",
       "      <td>9</td>\n",
       "      <td>UK</td>\n",
       "      <td>6650</td>\n",
       "      <td>967.0</td>\n",
       "      <td>335.0</td>\n",
       "      <td>54.0</td>\n",
       "      <td>135.0</td>\n",
       "      <td>6180</td>\n",
       "      <td>20.0</td>\n",
       "      <td>98.0</td>\n",
       "    </tr>\n",
       "  </tbody>\n",
       "</table>\n",
       "</div>"
      ],
      "text/plain": [
       "       Country  Total Cases  New Cases  Total Deaths  New Deaths  \\\n",
       "0        China        81093       39.0        3270.0         9.0   \n",
       "1        Italy        63927     4789.0        6077.0       601.0   \n",
       "2          USA        41569     8023.0         504.0        85.0   \n",
       "3        Spain        33089     4321.0        2207.0       435.0   \n",
       "4      Germany        29056     4183.0         118.0        24.0   \n",
       "5         Iran        23049     1411.0        1812.0       127.0   \n",
       "6       France        19856     3838.0         860.0       186.0   \n",
       "7       SKorea         8961       64.0         111.0         7.0   \n",
       "8  Switzerland         8547     1073.0         118.0        20.0   \n",
       "9           UK         6650      967.0         335.0        54.0   \n",
       "\n",
       "   Total Recovered  Active Cases  Serious/Critical  Total Cases/1 Population  \n",
       "0          72703.0          5120            1749.0                      56.0  \n",
       "1           7432.0         50418            3204.0                    1057.0  \n",
       "2            187.0         40878            1040.0                     126.0  \n",
       "3           3355.0         27527            2355.0                     708.0  \n",
       "4            422.0         28516              23.0                     347.0  \n",
       "5           8376.0         12861               NaN                     274.0  \n",
       "6           2200.0         16796            2082.0                     304.0  \n",
       "7           3166.0          5684              59.0                     175.0  \n",
       "8            131.0          8298             141.0                     988.0  \n",
       "9            135.0          6180              20.0                      98.0  "
      ]
     },
     "execution_count": 47,
     "metadata": {},
     "output_type": "execute_result"
    }
   ],
   "source": [
    "top10"
   ]
  },
  {
   "cell_type": "code",
   "execution_count": 48,
   "metadata": {},
   "outputs": [],
   "source": [
    "bottom10 = mod_df.tail(10)"
   ]
  },
  {
   "cell_type": "code",
   "execution_count": 49,
   "metadata": {},
   "outputs": [],
   "source": [
    "#bottom10"
   ]
  },
  {
   "cell_type": "code",
   "execution_count": 50,
   "metadata": {},
   "outputs": [],
   "source": [
    "xCountry=top10[\"Country\"]\n",
    "yTotalCases=top10[\"Total Cases\"]"
   ]
  },
  {
   "cell_type": "code",
   "execution_count": 51,
   "metadata": {},
   "outputs": [],
   "source": [
    "plt.rcParams['figure.figsize'] = (14,8)"
   ]
  },
  {
   "cell_type": "code",
   "execution_count": 52,
   "metadata": {},
   "outputs": [
    {
     "data": {
      "text/plain": [
       "<BarContainer object of 10 artists>"
      ]
     },
     "execution_count": 52,
     "metadata": {},
     "output_type": "execute_result"
    },
    {
     "data": {
      "image/png": "[encoded data removed]",
      "text/plain": [
       "<Figure size 1008x576 with 1 Axes>"
      ]
     },
     "metadata": {
      "needs_background": "light"
     },
     "output_type": "display_data"
    }
   ],
   "source": [
    "plt.xlabel('Country')\n",
    "plt.ylabel('Total Cases')\n",
    "plt.bar(xCountry,yTotalCases)\n",
    "#y_pos = [0,10,20,30,40,50,60,70,80,90]\n",
    "#plt.bar(y_pos,y)\n",
    "#plt.xticks(y_pos,x)"
   ]
  },
  {
   "cell_type": "code",
   "execution_count": 53,
   "metadata": {},
   "outputs": [
    {
     "name": "stderr",
     "output_type": "stream",
     "text": [
      "C:\\Users\\ysj30\\Anaconda3\\lib\\site-packages\\ipykernel_launcher.py:3: SettingWithCopyWarning: \n",
      "A value is trying to be set on a copy of a slice from a DataFrame\n",
      "\n",
      "See the caveats in the documentation: http://pandas.pydata.org/pandas-docs/stable/user_guide/indexing.html#returning-a-view-versus-a-copy\n",
      "  This is separate from the ipykernel package so we can avoid doing imports until\n"
     ]
    },
    {
     "data": {
      "text/plain": [
       "Text(0, 0.5, 'New Cases')"
      ]
     },
     "execution_count": 53,
     "metadata": {},
     "output_type": "execute_result"
    },
    {
     "data": {
      "image/png": "[encoded data removed]",
      "text/plain": [
       "<Figure size 1008x576 with 1 Axes>"
      ]
     },
     "metadata": {
      "needs_background": "light"
     },
     "output_type": "display_data"
    }
   ],
   "source": [
    "xCountry = top10[\"Country\"]\n",
    "yNewCases = top10[\"New Cases\"]\n",
    "top10SortedByNewCases = top10.sort_values(by=\"New Cases\",inplace=True,ascending=False)\n",
    "top10SortedByNewCasesX = top10.plot(y=\"New Cases\",kind=\"bar\")\n",
    "_ = top10SortedByNewCasesX.set_xticklabels(top10['Country'])\n",
    "plt.xlabel('Country')\n",
    "plt.ylabel('New Cases')"
   ]
  },
  {
   "cell_type": "code",
   "execution_count": 54,
   "metadata": {},
   "outputs": [
    {
     "name": "stderr",
     "output_type": "stream",
     "text": [
      "C:\\Users\\ysj30\\Anaconda3\\lib\\site-packages\\ipykernel_launcher.py:3: SettingWithCopyWarning: \n",
      "A value is trying to be set on a copy of a slice from a DataFrame\n",
      "\n",
      "See the caveats in the documentation: http://pandas.pydata.org/pandas-docs/stable/user_guide/indexing.html#returning-a-view-versus-a-copy\n",
      "  This is separate from the ipykernel package so we can avoid doing imports until\n"
     ]
    },
    {
     "data": {
      "text/plain": [
       "Text(0, 0.5, 'Total Deaths')"
      ]
     },
     "execution_count": 54,
     "metadata": {},
     "output_type": "execute_result"
    },
    {
     "data": {
      "image/png": "[encoded data removed]",
      "text/plain": [
       "<Figure size 1008x576 with 1 Axes>"
      ]
     },
     "metadata": {
      "needs_background": "light"
     },
     "output_type": "display_data"
    }
   ],
   "source": [
    "xCountry = top10[\"Country\"]\n",
    "yTotalDeaths = top10[\"Total Deaths\"]\n",
    "top10SortedByTotalDeaths = top10.sort_values(by=\"Total Deaths\",inplace=True,ascending=False)\n",
    "top10SortedByTotalDeathsX = top10.plot(y=\"Total Deaths\",kind=\"bar\")\n",
    "_ = top10SortedByTotalDeathsX.set_xticklabels(top10['Country'])\n",
    "plt.xlabel('Country')\n",
    "plt.ylabel('Total Deaths')"
   ]
  },
  {
   "cell_type": "code",
   "execution_count": 55,
   "metadata": {},
   "outputs": [
    {
     "name": "stderr",
     "output_type": "stream",
     "text": [
      "C:\\Users\\ysj30\\Anaconda3\\lib\\site-packages\\ipykernel_launcher.py:3: SettingWithCopyWarning: \n",
      "A value is trying to be set on a copy of a slice from a DataFrame\n",
      "\n",
      "See the caveats in the documentation: http://pandas.pydata.org/pandas-docs/stable/user_guide/indexing.html#returning-a-view-versus-a-copy\n",
      "  This is separate from the ipykernel package so we can avoid doing imports until\n"
     ]
    },
    {
     "data": {
      "text/plain": [
       "Text(0, 0.5, 'New Deaths')"
      ]
     },
     "execution_count": 55,
     "metadata": {},
     "output_type": "execute_result"
    },
    {
     "data": {
      "image/png": "[encoded data removed]",
      "text/plain": [
       "<Figure size 1008x576 with 1 Axes>"
      ]
     },
     "metadata": {
      "needs_background": "light"
     },
     "output_type": "display_data"
    }
   ],
   "source": [
    "xCountry = top10[\"Country\"]\n",
    "yNewDeaths = top10[\"New Deaths\"]\n",
    "top10SortedByNewDeaths = top10.sort_values(by=\"New Deaths\",inplace=True,ascending=False)\n",
    "top10SortedByNewDeathsX = top10.plot(y=\"New Deaths\",kind=\"bar\")\n",
    "_ = top10SortedByNewDeathsX.set_xticklabels(top10['Country'])\n",
    "plt.xlabel('Country')\n",
    "plt.ylabel('New Deaths')"
   ]
  },
  {
   "cell_type": "code",
   "execution_count": 56,
   "metadata": {},
   "outputs": [],
   "source": [
    "# plt.xlabel('Country')\n",
    "# plt.ylabel('New Cases')\n",
    "# plt.bar(xCountry,yNewCases)"
   ]
  },
  {
   "cell_type": "code",
   "execution_count": 57,
   "metadata": {},
   "outputs": [
    {
     "name": "stderr",
     "output_type": "stream",
     "text": [
      "C:\\Users\\ysj30\\Anaconda3\\lib\\site-packages\\ipykernel_launcher.py:3: SettingWithCopyWarning: \n",
      "A value is trying to be set on a copy of a slice from a DataFrame\n",
      "\n",
      "See the caveats in the documentation: http://pandas.pydata.org/pandas-docs/stable/user_guide/indexing.html#returning-a-view-versus-a-copy\n",
      "  This is separate from the ipykernel package so we can avoid doing imports until\n"
     ]
    },
    {
     "data": {
      "text/plain": [
       "Text(0, 0.5, 'Total Recovered')"
      ]
     },
     "execution_count": 57,
     "metadata": {},
     "output_type": "execute_result"
    },
    {
     "data": {
      "image/png": "[encoded data removed]",
      "text/plain": [
       "<Figure size 1008x576 with 1 Axes>"
      ]
     },
     "metadata": {
      "needs_background": "light"
     },
     "output_type": "display_data"
    }
   ],
   "source": [
    "xCountry = top10[\"Country\"]\n",
    "yTotalRecovered = top10[\"Total Recovered\"]\n",
    "top10SortedByTotalRecovered = top10.sort_values(by=\"Total Recovered\",inplace=True,ascending=False)\n",
    "top10SortedByTotalRecoveredX = top10.plot(y=\"Total Recovered\",kind=\"bar\")\n",
    "_ = top10SortedByTotalRecoveredX.set_xticklabels(top10['Country'])\n",
    "plt.xlabel('Country')\n",
    "plt.ylabel('Total Recovered')"
   ]
  },
  {
   "cell_type": "code",
   "execution_count": 58,
   "metadata": {},
   "outputs": [
    {
     "name": "stderr",
     "output_type": "stream",
     "text": [
      "C:\\Users\\ysj30\\Anaconda3\\lib\\site-packages\\ipykernel_launcher.py:3: SettingWithCopyWarning: \n",
      "A value is trying to be set on a copy of a slice from a DataFrame\n",
      "\n",
      "See the caveats in the documentation: http://pandas.pydata.org/pandas-docs/stable/user_guide/indexing.html#returning-a-view-versus-a-copy\n",
      "  This is separate from the ipykernel package so we can avoid doing imports until\n"
     ]
    },
    {
     "data": {
      "text/plain": [
       "Text(0, 0.5, 'Active Cases')"
      ]
     },
     "execution_count": 58,
     "metadata": {},
     "output_type": "execute_result"
    },
    {
     "data": {
      "image/png": "[encoded data removed]",
      "text/plain": [
       "<Figure size 1008x576 with 1 Axes>"
      ]
     },
     "metadata": {
      "needs_background": "light"
     },
     "output_type": "display_data"
    }
   ],
   "source": [
    "xCountry = top10[\"Country\"]\n",
    "yActiveCases = top10[\"Active Cases\"]\n",
    "top10SortedByActiveCases = top10.sort_values(by=\"Active Cases\",inplace=True,ascending=False)\n",
    "top10SortedByActiveCasesX = top10.plot(y=\"Active Cases\",kind=\"bar\")\n",
    "_ = top10SortedByActiveCasesX.set_xticklabels(top10['Country'])\n",
    "plt.xlabel('Country')\n",
    "plt.ylabel('Active Cases')"
   ]
  },
  {
   "cell_type": "code",
   "execution_count": 59,
   "metadata": {},
   "outputs": [
    {
     "name": "stderr",
     "output_type": "stream",
     "text": [
      "C:\\Users\\ysj30\\Anaconda3\\lib\\site-packages\\ipykernel_launcher.py:3: SettingWithCopyWarning: \n",
      "A value is trying to be set on a copy of a slice from a DataFrame\n",
      "\n",
      "See the caveats in the documentation: http://pandas.pydata.org/pandas-docs/stable/user_guide/indexing.html#returning-a-view-versus-a-copy\n",
      "  This is separate from the ipykernel package so we can avoid doing imports until\n"
     ]
    },
    {
     "data": {
      "text/plain": [
       "Text(0, 0.5, 'Serious/Critical')"
      ]
     },
     "execution_count": 59,
     "metadata": {},
     "output_type": "execute_result"
    },
    {
     "data": {
      "image/png": "[encoded data removed]",
      "text/plain": [
       "<Figure size 1008x576 with 1 Axes>"
      ]
     },
     "metadata": {
      "needs_background": "light"
     },
     "output_type": "display_data"
    }
   ],
   "source": [
    "xCountry = top10[\"Country\"]\n",
    "ySeriousCritical = top10[\"Serious/Critical\"]\n",
    "top10SortedBySeriousCritical = top10.sort_values(by=\"Serious/Critical\",inplace=True,ascending=False)\n",
    "top10SortedBySeriousCriticalX = top10.plot(y=\"Serious/Critical\",kind=\"bar\")\n",
    "_ = top10SortedBySeriousCriticalX.set_xticklabels(top10['Country'])\n",
    "plt.xlabel('Country')\n",
    "plt.ylabel('Serious/Critical')"
   ]
  },
  {
   "cell_type": "code",
   "execution_count": null,
   "metadata": {},
   "outputs": [],
   "source": []
  },
  {
   "cell_type": "code",
   "execution_count": 60,
   "metadata": {},
   "outputs": [
    {
     "name": "stderr",
     "output_type": "stream",
     "text": [
      "C:\\Users\\ysj30\\Anaconda3\\lib\\site-packages\\ipykernel_launcher.py:3: SettingWithCopyWarning: \n",
      "A value is trying to be set on a copy of a slice from a DataFrame\n",
      "\n",
      "See the caveats in the documentation: http://pandas.pydata.org/pandas-docs/stable/user_guide/indexing.html#returning-a-view-versus-a-copy\n",
      "  This is separate from the ipykernel package so we can avoid doing imports until\n"
     ]
    },
    {
     "data": {
      "text/plain": [
       "Text(0, 0.5, 'Total Cases/1M Population')"
      ]
     },
     "execution_count": 60,
     "metadata": {},
     "output_type": "execute_result"
    },
    {
     "data": {
      "image/png": "[encoded data removed]",
      "text/plain": [
       "<Figure size 1008x576 with 1 Axes>"
      ]
     },
     "metadata": {
      "needs_background": "light"
     },
     "output_type": "display_data"
    }
   ],
   "source": [
    "xCountry = top10[\"Country\"]\n",
    "ySeriousCritical = top10[\"Total Cases/1 Population\"]\n",
    "top10SortedByTotalCasesPer1M = top10.sort_values(by=\"Total Cases/1 Population\",inplace=True,ascending=False)\n",
    "top10SortedByTotalCasesPer1MX = top10.plot(y=\"Total Cases/1 Population\",kind=\"bar\")\n",
    "_ = top10SortedByTotalCasesPer1MX.set_xticklabels(top10['Country'])\n",
    "plt.xlabel('Country')\n",
    "plt.ylabel('Total Cases/1M Population')"
   ]
  },
  {
   "cell_type": "code",
   "execution_count": null,
   "metadata": {},
   "outputs": [],
   "source": []
  },
  {
   "cell_type": "code",
   "execution_count": null,
   "metadata": {},
   "outputs": [],
   "source": []
  }
 ],
 "metadata": {
  "kernelspec": {
   "display_name": "Python 3",
   "language": "python",
   "name": "python3"
  },
  "language_info": {
   "codemirror_mode": {
    "name": "ipython",
    "version": 3
   },
   "file_extension": ".py",
   "mimetype": "text/x-python",
   "name": "python",
   "nbconvert_exporter": "python",
   "pygments_lexer": "ipython3",
   "version": "3.7.4"
  }
 },
 "nbformat": 4,
 "nbformat_minor": 4
}
