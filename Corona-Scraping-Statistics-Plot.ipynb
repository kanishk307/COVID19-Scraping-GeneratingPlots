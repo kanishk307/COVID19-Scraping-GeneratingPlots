{
 "cells": [
  {
   "cell_type": "code",
   "execution_count": 33,
   "metadata": {},
   "outputs": [],
   "source": [
    "import requests\n",
    "from bs4 import BeautifulSoup\n",
    "import pandas as pd\n",
    "import csv\n",
    "from matplotlib import pyplot as plt\n",
    "from matplotlib import style\n",
    "import numpy as np\n",
    "#import plotly.express as px"
   ]
  },
  {
   "cell_type": "code",
   "execution_count": 34,
   "metadata": {},
   "outputs": [],
   "source": [
    "url = 'https://www.worldometers.info/coronavirus/'"
   ]
  },
  {
   "cell_type": "code",
   "execution_count": 35,
   "metadata": {},
   "outputs": [],
   "source": [
    "headers = {'User-Agent':'Mozilla/5.0'}"
   ]
  },
  {
   "cell_type": "code",
   "execution_count": 36,
   "metadata": {},
   "outputs": [],
   "source": [
    "response = requests.get(url, headers=headers)"
   ]
  },
  {
   "cell_type": "markdown",
   "metadata": {},
   "source": []
  },
  {
   "cell_type": "code",
   "execution_count": 37,
   "metadata": {},
   "outputs": [
    {
     "data": {
      "text/plain": [
       "200"
      ]
     },
     "execution_count": 37,
     "metadata": {},
     "output_type": "execute_result"
    }
   ],
   "source": [
    "response.status_code"
   ]
  },
  {
   "cell_type": "code",
   "execution_count": 38,
   "metadata": {},
   "outputs": [],
   "source": [
    "soup = BeautifulSoup(response.content, 'html.parser')"
   ]
  },
  {
   "cell_type": "code",
   "execution_count": 39,
   "metadata": {},
   "outputs": [],
   "source": [
    "main_table = soup.find(id='main_table_countries_today')"
   ]
  },
  {
   "cell_type": "code",
   "execution_count": 40,
   "metadata": {},
   "outputs": [],
   "source": [
    "# type(main_table)"
   ]
  },
  {
   "cell_type": "code",
   "execution_count": 41,
   "metadata": {},
   "outputs": [],
   "source": [
    "# for thead in main_table.find_all('thead'):\n",
    "#     for tr in thead.find_all('tr'):\n",
    "#         with open('testfile.csv','w') as o:\n",
    "#             for th in tr.find_all('th'):\n",
    "#                 print(th.text)\n",
    "#                 w = csv.writer(o)\n",
    "#                 w.writerow([th.text])\n"
   ]
  },
  {
   "cell_type": "code",
   "execution_count": 42,
   "metadata": {},
   "outputs": [],
   "source": [
    "# for thead in main_table.find_all('thead'):\n",
    "#     for tr in thead.find_all('tr'):\n",
    "# #         with open('testfile.csv','w') as o:\n",
    "#         for th in tr.find_all('th'):\n",
    "#             print(th.text+',',end = '')\n",
    "            "
   ]
  },
  {
   "cell_type": "code",
   "execution_count": 43,
   "metadata": {},
   "outputs": [],
   "source": [
    "# with open('testfile.csv','w') as o:\n",
    "#     w = csv.writer(o)\n",
    "#     w.writerow([th.text])\n",
    "#     for r in tr:\n",
    "#         w.writerow([r])\n",
    "    "
   ]
  },
  {
   "cell_type": "code",
   "execution_count": 44,
   "metadata": {},
   "outputs": [],
   "source": [
    "i=0\n",
    "with open('textfile.txt','w') as r:\n",
    "    for tbody in main_table.find_all('tbody'):\n",
    "        for row in tbody.find_all('tr'):\n",
    "            for cell in row.find_all('td'):\n",
    "    #                 cell[0]\n",
    "    #                 print(i)\n",
    "    #                 print(int(cell)%9)\n",
    "                cellText = cell.text.strip()\n",
    "                cellText = cellText.replace(' ','')\n",
    "                cellText = cellText.replace('.','')\n",
    "                cellText = cellText.replace(',','')\n",
    "                cellText = cellText.replace('+','')\n",
    "#                 print(cellText) \n",
    "                r.write(cellText+\" \")\n",
    "            r.write('\\n')\n",
    "    #                 print('\\n')\n",
    "    #                 w = csv.writer(o)\n",
    "    #                 w.writerow([cellText])\n",
    "\n",
    "    #                 if(i==0):\n",
    "    #                     break;\n",
    "    # #                     print('\\n')\n",
    "\n",
    "        #             with open('testfile.csv','w') as o:\n",
    "        #                 w = csv.writer(o)\n",
    "        #                 w.writerow([cell.text]"
   ]
  },
  {
   "cell_type": "code",
   "execution_count": 45,
   "metadata": {},
   "outputs": [],
   "source": [
    "text_file = \"textfile.txt\"\n",
    "csv_file=r\"convertedfile.csv\"\n",
    "\n",
    "in_text = csv.reader(open(text_file,\"r\"), delimiter=' ')\n",
    "out_csv = csv.writer(open(csv_file,\"w\"))\n",
    "\n",
    "out_csv.writerows(in_text)"
   ]
  },
  {
   "cell_type": "code",
   "execution_count": 46,
   "metadata": {},
   "outputs": [],
   "source": [
    "# with open('convertedfile.csv',newline='') as f:\n",
    "#     r=csv.reader(f)\n",
    "#     data = [line for line in r]\n",
    "    \n",
    "# with open ('convertedfile.csv','w',newline='') as f:\n",
    "#     w=csv.writer(f)\n",
    "#     w.writerow([\"Country\",\"Total Cases\",\"New Cases\",\"Total Deaths\",\"New Deaths\",\"Total Recovered\",\"Active Cases\",\"Serious/Critical\",\"Total Cases/1 Population\"])\n",
    "#     w.writerows(data)"
   ]
  },
  {
   "cell_type": "code",
   "execution_count": 47,
   "metadata": {},
   "outputs": [],
   "source": [
    "# f = open(csv_file,\"w\")\n",
    "# writer = csv.DictWriter(f,fieldnames=[\"Country\",\"Total Cases\",\"New Cases\",\"Total Deaths\",\"New Deaths\",\"Total Recovered\",\"Active Cases\",\"Serious/Critical\",\"Total Cases/1M Population\"])\n",
    "# writer.writeheader()\n",
    "# f.close()"
   ]
  },
  {
   "cell_type": "code",
   "execution_count": 48,
   "metadata": {},
   "outputs": [],
   "source": [
    "# reader = csv.DictReader(open('convertedfile.csv'))\n",
    "# writer = csv.DictWriter(open('cleanfile.csv', 'w'), fieldnames=reader.fieldnames)\n",
    "\n",
    "# for row in reader:\n",
    "#     if all(col != '' for col in row.values()):\n",
    "#         continue\n",
    "\n",
    "#     writer.writerow(row)"
   ]
  },
  {
   "cell_type": "code",
   "execution_count": null,
   "metadata": {},
   "outputs": [],
   "source": []
  },
  {
   "cell_type": "code",
   "execution_count": 49,
   "metadata": {},
   "outputs": [],
   "source": [
    "df = pd.read_csv(csv_file,encoding='iso-8859-1',index_col=0)\n"
   ]
  },
  {
   "cell_type": "code",
   "execution_count": 50,
   "metadata": {},
   "outputs": [],
   "source": [
    "#df.shape"
   ]
  },
  {
   "cell_type": "code",
   "execution_count": 51,
   "metadata": {},
   "outputs": [],
   "source": [
    "#df"
   ]
  },
  {
   "cell_type": "code",
   "execution_count": null,
   "metadata": {},
   "outputs": [],
   "source": []
  },
  {
   "cell_type": "code",
   "execution_count": 52,
   "metadata": {},
   "outputs": [],
   "source": [
    "#df.isnull().sum()"
   ]
  },
  {
   "cell_type": "code",
   "execution_count": 53,
   "metadata": {},
   "outputs": [],
   "source": [
    "#modified_df = df.dropna()"
   ]
  },
  {
   "cell_type": "code",
   "execution_count": 54,
   "metadata": {},
   "outputs": [],
   "source": [
    "df.rename({\"Unnamed: 2\":\"\"}, axis=\"columns\", inplace=True)\n",
    "df.rename({\"Unnamed: 4\":\"\"}, axis=\"columns\", inplace=True)\n",
    "df.rename({\"Unnamed: 9\":\"\"}, axis=\"columns\", inplace=True)"
   ]
  },
  {
   "cell_type": "code",
   "execution_count": 55,
   "metadata": {},
   "outputs": [],
   "source": [
    "#df"
   ]
  },
  {
   "cell_type": "code",
   "execution_count": 56,
   "metadata": {},
   "outputs": [],
   "source": [
    "df.to_csv('modified_df.csv')"
   ]
  },
  {
   "cell_type": "code",
   "execution_count": 57,
   "metadata": {},
   "outputs": [],
   "source": [
    "with open('modified_df.csv',newline='') as f:\n",
    "    r=csv.reader(f)\n",
    "    data = [line for line in r]\n",
    "    \n",
    "with open ('modified_df.csv','w',newline='') as f:\n",
    "    w=csv.writer(f)\n",
    "    w.writerow([\"Country\",\"Total Cases\",\"New Cases\",\"Total Deaths\",\"New Deaths\",\"Total Recovered\",\"Active Cases\",\"Serious/Critical\",\"Total Cases/1 Population\"])\n",
    "    w.writerows(data)"
   ]
  },
  {
   "cell_type": "code",
   "execution_count": 58,
   "metadata": {},
   "outputs": [],
   "source": [
    "mod_df = pd.read_csv('modified_df.csv',encoding='iso-8859-1',index_col=False)"
   ]
  },
  {
   "cell_type": "code",
   "execution_count": 59,
   "metadata": {},
   "outputs": [],
   "source": [
    "#mod_df"
   ]
  },
  {
   "cell_type": "code",
   "execution_count": 60,
   "metadata": {},
   "outputs": [],
   "source": [
    "top10 = mod_df.head(10)"
   ]
  },
  {
   "cell_type": "code",
   "execution_count": 61,
   "metadata": {},
   "outputs": [
    {
     "data": {
      "text/html": [
       "<div>\n",
       "<style scoped>\n",
       "    .dataframe tbody tr th:only-of-type {\n",
       "        vertical-align: middle;\n",
       "    }\n",
       "\n",
       "    .dataframe tbody tr th {\n",
       "        vertical-align: top;\n",
       "    }\n",
       "\n",
       "    .dataframe thead th {\n",
       "        text-align: right;\n",
       "    }\n",
       "</style>\n",
       "<table border=\"1\" class=\"dataframe\">\n",
       "  <thead>\n",
       "    <tr style=\"text-align: right;\">\n",
       "      <th></th>\n",
       "      <th>Country</th>\n",
       "      <th>Total Cases</th>\n",
       "      <th>New Cases</th>\n",
       "      <th>Total Deaths</th>\n",
       "      <th>New Deaths</th>\n",
       "      <th>Total Recovered</th>\n",
       "      <th>Active Cases</th>\n",
       "      <th>Serious/Critical</th>\n",
       "      <th>Total Cases/1 Population</th>\n",
       "    </tr>\n",
       "  </thead>\n",
       "  <tbody>\n",
       "    <tr>\n",
       "      <th>0</th>\n",
       "      <td>China</td>\n",
       "      <td>81093</td>\n",
       "      <td>39.0</td>\n",
       "      <td>3270.0</td>\n",
       "      <td>9.0</td>\n",
       "      <td>72703.0</td>\n",
       "      <td>5120</td>\n",
       "      <td>1749.0</td>\n",
       "      <td>56.0</td>\n",
       "    </tr>\n",
       "    <tr>\n",
       "      <th>1</th>\n",
       "      <td>Italy</td>\n",
       "      <td>59138</td>\n",
       "      <td>NaN</td>\n",
       "      <td>5476.0</td>\n",
       "      <td>NaN</td>\n",
       "      <td>7024.0</td>\n",
       "      <td>46638</td>\n",
       "      <td>3000.0</td>\n",
       "      <td>978.0</td>\n",
       "    </tr>\n",
       "    <tr>\n",
       "      <th>2</th>\n",
       "      <td>USA</td>\n",
       "      <td>35060</td>\n",
       "      <td>1514.0</td>\n",
       "      <td>457.0</td>\n",
       "      <td>38.0</td>\n",
       "      <td>178.0</td>\n",
       "      <td>34425</td>\n",
       "      <td>795.0</td>\n",
       "      <td>106.0</td>\n",
       "    </tr>\n",
       "    <tr>\n",
       "      <th>3</th>\n",
       "      <td>Spain</td>\n",
       "      <td>28768</td>\n",
       "      <td>NaN</td>\n",
       "      <td>1772.0</td>\n",
       "      <td>NaN</td>\n",
       "      <td>2575.0</td>\n",
       "      <td>24421</td>\n",
       "      <td>1785.0</td>\n",
       "      <td>615.0</td>\n",
       "    </tr>\n",
       "    <tr>\n",
       "      <th>4</th>\n",
       "      <td>Germany</td>\n",
       "      <td>24873</td>\n",
       "      <td>NaN</td>\n",
       "      <td>94.0</td>\n",
       "      <td>NaN</td>\n",
       "      <td>266.0</td>\n",
       "      <td>24513</td>\n",
       "      <td>23.0</td>\n",
       "      <td>297.0</td>\n",
       "    </tr>\n",
       "    <tr>\n",
       "      <th>5</th>\n",
       "      <td>Iran</td>\n",
       "      <td>21638</td>\n",
       "      <td>NaN</td>\n",
       "      <td>1685.0</td>\n",
       "      <td>NaN</td>\n",
       "      <td>7913.0</td>\n",
       "      <td>12040</td>\n",
       "      <td>NaN</td>\n",
       "      <td>258.0</td>\n",
       "    </tr>\n",
       "    <tr>\n",
       "      <th>6</th>\n",
       "      <td>France</td>\n",
       "      <td>16018</td>\n",
       "      <td>NaN</td>\n",
       "      <td>674.0</td>\n",
       "      <td>NaN</td>\n",
       "      <td>2200.0</td>\n",
       "      <td>13144</td>\n",
       "      <td>1746.0</td>\n",
       "      <td>245.0</td>\n",
       "    </tr>\n",
       "    <tr>\n",
       "      <th>7</th>\n",
       "      <td>SKorea</td>\n",
       "      <td>8961</td>\n",
       "      <td>64.0</td>\n",
       "      <td>111.0</td>\n",
       "      <td>7.0</td>\n",
       "      <td>3166.0</td>\n",
       "      <td>5684</td>\n",
       "      <td>59.0</td>\n",
       "      <td>175.0</td>\n",
       "    </tr>\n",
       "    <tr>\n",
       "      <th>8</th>\n",
       "      <td>Switzerland</td>\n",
       "      <td>7474</td>\n",
       "      <td>NaN</td>\n",
       "      <td>98.0</td>\n",
       "      <td>NaN</td>\n",
       "      <td>131.0</td>\n",
       "      <td>7245</td>\n",
       "      <td>141.0</td>\n",
       "      <td>864.0</td>\n",
       "    </tr>\n",
       "    <tr>\n",
       "      <th>9</th>\n",
       "      <td>UK</td>\n",
       "      <td>5683</td>\n",
       "      <td>NaN</td>\n",
       "      <td>281.0</td>\n",
       "      <td>NaN</td>\n",
       "      <td>135.0</td>\n",
       "      <td>5267</td>\n",
       "      <td>20.0</td>\n",
       "      <td>84.0</td>\n",
       "    </tr>\n",
       "  </tbody>\n",
       "</table>\n",
       "</div>"
      ],
      "text/plain": [
       "       Country  Total Cases  New Cases  Total Deaths  New Deaths  \\\n",
       "0        China        81093       39.0        3270.0         9.0   \n",
       "1        Italy        59138        NaN        5476.0         NaN   \n",
       "2          USA        35060     1514.0         457.0        38.0   \n",
       "3        Spain        28768        NaN        1772.0         NaN   \n",
       "4      Germany        24873        NaN          94.0         NaN   \n",
       "5         Iran        21638        NaN        1685.0         NaN   \n",
       "6       France        16018        NaN         674.0         NaN   \n",
       "7       SKorea         8961       64.0         111.0         7.0   \n",
       "8  Switzerland         7474        NaN          98.0         NaN   \n",
       "9           UK         5683        NaN         281.0         NaN   \n",
       "\n",
       "   Total Recovered  Active Cases  Serious/Critical  Total Cases/1 Population  \n",
       "0          72703.0          5120            1749.0                      56.0  \n",
       "1           7024.0         46638            3000.0                     978.0  \n",
       "2            178.0         34425             795.0                     106.0  \n",
       "3           2575.0         24421            1785.0                     615.0  \n",
       "4            266.0         24513              23.0                     297.0  \n",
       "5           7913.0         12040               NaN                     258.0  \n",
       "6           2200.0         13144            1746.0                     245.0  \n",
       "7           3166.0          5684              59.0                     175.0  \n",
       "8            131.0          7245             141.0                     864.0  \n",
       "9            135.0          5267              20.0                      84.0  "
      ]
     },
     "execution_count": 61,
     "metadata": {},
     "output_type": "execute_result"
    }
   ],
   "source": [
    "top10"
   ]
  },
  {
   "cell_type": "code",
   "execution_count": 62,
   "metadata": {},
   "outputs": [],
   "source": [
    "bottom10 = mod_df.tail(10)"
   ]
  },
  {
   "cell_type": "code",
   "execution_count": 63,
   "metadata": {},
   "outputs": [],
   "source": [
    "#bottom10"
   ]
  },
  {
   "cell_type": "code",
   "execution_count": 64,
   "metadata": {},
   "outputs": [],
   "source": [
    "xCountry=top10[\"Country\"]\n",
    "yTotalCases=top10[\"Total Cases\"]"
   ]
  },
  {
   "cell_type": "code",
   "execution_count": 65,
   "metadata": {},
   "outputs": [],
   "source": [
    "plt.rcParams['figure.figsize'] = (14,8)"
   ]
  },
  {
   "cell_type": "code",
   "execution_count": 66,
   "metadata": {},
   "outputs": [
    {
     "data": {
      "text/plain": [
       "<BarContainer object of 10 artists>"
      ]
     },
     "execution_count": 66,
     "metadata": {},
     "output_type": "execute_result"
    },
    {
     "data": {
      "image/png": "[encoded data removed]",
      "text/plain": [
       "<Figure size 1008x576 with 1 Axes>"
      ]
     },
     "metadata": {
      "needs_background": "light"
     },
     "output_type": "display_data"
    }
   ],
   "source": [
    "plt.xlabel('Country')\n",
    "plt.ylabel('Total Cases')\n",
    "plt.bar(xCountry,yTotalCases)\n",
    "#y_pos = [0,10,20,30,40,50,60,70,80,90]\n",
    "#plt.bar(y_pos,y)\n",
    "#plt.xticks(y_pos,x)"
   ]
  },
  {
   "cell_type": "code",
   "execution_count": 67,
   "metadata": {},
   "outputs": [
    {
     "name": "stderr",
     "output_type": "stream",
     "text": [
      "<ipython-input-67-02d8af8884bc>:3: SettingWithCopyWarning: \n",
      "A value is trying to be set on a copy of a slice from a DataFrame\n",
      "\n",
      "See the caveats in the documentation: http://pandas.pydata.org/pandas-docs/stable/user_guide/indexing.html#returning-a-view-versus-a-copy\n",
      "  top10SortedByNewCases = top10.sort_values(by=\"New Cases\",inplace=True,ascending=False)\n"
     ]
    },
    {
     "data": {
      "text/plain": [
       "Text(0, 0.5, 'New Cases')"
      ]
     },
     "execution_count": 67,
     "metadata": {},
     "output_type": "execute_result"
    },
    {
     "data": {
      "image/png": "[encoded data removed]",
      "text/plain": [
       "<Figure size 1008x576 with 1 Axes>"
      ]
     },
     "metadata": {
      "needs_background": "light"
     },
     "output_type": "display_data"
    }
   ],
   "source": [
    "xCountry = top10[\"Country\"]\n",
    "yNewCases = top10[\"New Cases\"]\n",
    "top10SortedByNewCases = top10.sort_values(by=\"New Cases\",inplace=True,ascending=False)\n",
    "top10SortedByNewCasesX = top10.plot(y=\"New Cases\",kind=\"bar\")\n",
    "_ = top10SortedByNewCasesX.set_xticklabels(top10['Country'])\n",
    "plt.xlabel('Country')\n",
    "plt.ylabel('New Cases')"
   ]
  },
  {
   "cell_type": "code",
   "execution_count": 68,
   "metadata": {},
   "outputs": [
    {
     "name": "stderr",
     "output_type": "stream",
     "text": [
      "<ipython-input-68-ad0ed8c33997>:3: SettingWithCopyWarning: \n",
      "A value is trying to be set on a copy of a slice from a DataFrame\n",
      "\n",
      "See the caveats in the documentation: http://pandas.pydata.org/pandas-docs/stable/user_guide/indexing.html#returning-a-view-versus-a-copy\n",
      "  top10SortedByTotalDeaths = top10.sort_values(by=\"Total Deaths\",inplace=True,ascending=False)\n"
     ]
    },
    {
     "data": {
      "text/plain": [
       "Text(0, 0.5, 'Total Deaths')"
      ]
     },
     "execution_count": 68,
     "metadata": {},
     "output_type": "execute_result"
    },
    {
     "data": {
      "image/png": "[encoded data removed]",
      "text/plain": [
       "<Figure size 1008x576 with 1 Axes>"
      ]
     },
     "metadata": {
      "needs_background": "light"
     },
     "output_type": "display_data"
    }
   ],
   "source": [
    "xCountry = top10[\"Country\"]\n",
    "yTotalDeaths = top10[\"Total Deaths\"]\n",
    "top10SortedByTotalDeaths = top10.sort_values(by=\"Total Deaths\",inplace=True,ascending=False)\n",
    "top10SortedByTotalDeathsX = top10.plot(y=\"Total Deaths\",kind=\"bar\")\n",
    "_ = top10SortedByTotalDeathsX.set_xticklabels(top10['Country'])\n",
    "plt.xlabel('Country')\n",
    "plt.ylabel('Total Deaths')"
   ]
  },
  {
   "cell_type": "code",
   "execution_count": 69,
   "metadata": {},
   "outputs": [
    {
     "name": "stderr",
     "output_type": "stream",
     "text": [
      "<ipython-input-69-21bd7822e861>:3: SettingWithCopyWarning: \n",
      "A value is trying to be set on a copy of a slice from a DataFrame\n",
      "\n",
      "See the caveats in the documentation: http://pandas.pydata.org/pandas-docs/stable/user_guide/indexing.html#returning-a-view-versus-a-copy\n",
      "  top10SortedByNewDeaths = top10.sort_values(by=\"New Deaths\",inplace=True,ascending=False)\n"
     ]
    },
    {
     "data": {
      "text/plain": [
       "Text(0, 0.5, 'New Deaths')"
      ]
     },
     "execution_count": 69,
     "metadata": {},
     "output_type": "execute_result"
    },
    {
     "data": {
      "image/png": "[encoded data removed]",
      "text/plain": [
       "<Figure size 1008x576 with 1 Axes>"
      ]
     },
     "metadata": {
      "needs_background": "light"
     },
     "output_type": "display_data"
    }
   ],
   "source": [
    "xCountry = top10[\"Country\"]\n",
    "yNewDeaths = top10[\"New Deaths\"]\n",
    "top10SortedByNewDeaths = top10.sort_values(by=\"New Deaths\",inplace=True,ascending=False)\n",
    "top10SortedByNewDeathsX = top10.plot(y=\"New Deaths\",kind=\"bar\")\n",
    "_ = top10SortedByNewDeathsX.set_xticklabels(top10['Country'])\n",
    "plt.xlabel('Country')\n",
    "plt.ylabel('New Deaths')"
   ]
  },
  {
   "cell_type": "code",
   "execution_count": 70,
   "metadata": {},
   "outputs": [],
   "source": [
    "# plt.xlabel('Country')\n",
    "# plt.ylabel('New Cases')\n",
    "# plt.bar(xCountry,yNewCases)"
   ]
  },
  {
   "cell_type": "code",
   "execution_count": 71,
   "metadata": {},
   "outputs": [
    {
     "name": "stderr",
     "output_type": "stream",
     "text": [
      "<ipython-input-71-616a9c402fe6>:3: SettingWithCopyWarning: \n",
      "A value is trying to be set on a copy of a slice from a DataFrame\n",
      "\n",
      "See the caveats in the documentation: http://pandas.pydata.org/pandas-docs/stable/user_guide/indexing.html#returning-a-view-versus-a-copy\n",
      "  top10SortedByTotalRecovered = top10.sort_values(by=\"Total Recovered\",inplace=True,ascending=False)\n"
     ]
    },
    {
     "data": {
      "text/plain": [
       "Text(0, 0.5, 'Total Recovered')"
      ]
     },
     "execution_count": 71,
     "metadata": {},
     "output_type": "execute_result"
    },
    {
     "data": {
      "image/png": "[encoded data removed]",
      "text/plain": [
       "<Figure size 1008x576 with 1 Axes>"
      ]
     },
     "metadata": {
      "needs_background": "light"
     },
     "output_type": "display_data"
    }
   ],
   "source": [
    "xCountry = top10[\"Country\"]\n",
    "yTotalRecovered = top10[\"Total Recovered\"]\n",
    "top10SortedByTotalRecovered = top10.sort_values(by=\"Total Recovered\",inplace=True,ascending=False)\n",
    "top10SortedByTotalRecoveredX = top10.plot(y=\"Total Recovered\",kind=\"bar\")\n",
    "_ = top10SortedByTotalRecoveredX.set_xticklabels(top10['Country'])\n",
    "plt.xlabel('Country')\n",
    "plt.ylabel('Total Recovered')"
   ]
  },
  {
   "cell_type": "code",
   "execution_count": 104,
   "metadata": {},
   "outputs": [
    {
     "name": "stderr",
     "output_type": "stream",
     "text": [
      "<ipython-input-104-e20fef2f21ae>:3: SettingWithCopyWarning: \n",
      "A value is trying to be set on a copy of a slice from a DataFrame\n",
      "\n",
      "See the caveats in the documentation: http://pandas.pydata.org/pandas-docs/stable/user_guide/indexing.html#returning-a-view-versus-a-copy\n",
      "  top10SortedByActiveCases = top10.sort_values(by=\"Active Cases\",inplace=True,ascending=False)\n"
     ]
    },
    {
     "data": {
      "text/plain": [
       "Text(0, 0.5, 'Active Cases')"
      ]
     },
     "execution_count": 104,
     "metadata": {},
     "output_type": "execute_result"
    },
    {
     "data": {
      "image/png": "[encoded data removed]",
      "text/plain": [
       "<Figure size 1008x576 with 1 Axes>"
      ]
     },
     "metadata": {
      "needs_background": "light"
     },
     "output_type": "display_data"
    }
   ],
   "source": [
    "xCountry = top10[\"Country\"]\n",
    "yActiveCases = top10[\"Active Cases\"]\n",
    "top10SortedByActiveCases = top10.sort_values(by=\"Active Cases\",inplace=True,ascending=False)\n",
    "top10SortedByActiveCasesX = top10.plot(y=\"Active Cases\",kind=\"bar\")\n",
    "_ = top10SortedByActiveCasesX.set_xticklabels(top10['Country'])\n",
    "plt.xlabel('Country')\n",
    "plt.ylabel('Active Cases')"
   ]
  },
  {
   "cell_type": "code",
   "execution_count": 72,
   "metadata": {},
   "outputs": [
    {
     "name": "stderr",
     "output_type": "stream",
     "text": [
      "<ipython-input-72-e7bd8db66eec>:3: SettingWithCopyWarning: \n",
      "A value is trying to be set on a copy of a slice from a DataFrame\n",
      "\n",
      "See the caveats in the documentation: http://pandas.pydata.org/pandas-docs/stable/user_guide/indexing.html#returning-a-view-versus-a-copy\n",
      "  top10SortedBySeriousCritical = top10.sort_values(by=\"Serious/Critical\",inplace=True,ascending=False)\n"
     ]
    },
    {
     "data": {
      "text/plain": [
       "Text(0, 0.5, 'Serious/Critical')"
      ]
     },
     "execution_count": 72,
     "metadata": {},
     "output_type": "execute_result"
    },
    {
     "data": {
      "image/png": "[encoded data removed]",
      "text/plain": [
       "<Figure size 1008x576 with 1 Axes>"
      ]
     },
     "metadata": {
      "needs_background": "light"
     },
     "output_type": "display_data"
    }
   ],
   "source": [
    "xCountry = top10[\"Country\"]\n",
    "ySeriousCritical = top10[\"Serious/Critical\"]\n",
    "top10SortedBySeriousCritical = top10.sort_values(by=\"Serious/Critical\",inplace=True,ascending=False)\n",
    "top10SortedBySeriousCriticalX = top10.plot(y=\"Serious/Critical\",kind=\"bar\")\n",
    "_ = top10SortedBySeriousCriticalX.set_xticklabels(top10['Country'])\n",
    "plt.xlabel('Country')\n",
    "plt.ylabel('Serious/Critical')"
   ]
  },
  {
   "cell_type": "code",
   "execution_count": null,
   "metadata": {},
   "outputs": [],
   "source": []
  },
  {
   "cell_type": "code",
   "execution_count": 73,
   "metadata": {},
   "outputs": [
    {
     "name": "stderr",
     "output_type": "stream",
     "text": [
      "<ipython-input-73-bde5fa876759>:3: SettingWithCopyWarning: \n",
      "A value is trying to be set on a copy of a slice from a DataFrame\n",
      "\n",
      "See the caveats in the documentation: http://pandas.pydata.org/pandas-docs/stable/user_guide/indexing.html#returning-a-view-versus-a-copy\n",
      "  top10SortedByTotalCasesPer1M = top10.sort_values(by=\"Total Cases/1 Population\",inplace=True,ascending=False)\n"
     ]
    },
    {
     "data": {
      "text/plain": [
       "Text(0, 0.5, 'Total Cases/1M Population')"
      ]
     },
     "execution_count": 73,
     "metadata": {},
     "output_type": "execute_result"
    },
    {
     "data": {
      "image/png": "[encoded data removed]",
      "text/plain": [
       "<Figure size 1008x576 with 1 Axes>"
      ]
     },
     "metadata": {
      "needs_background": "light"
     },
     "output_type": "display_data"
    }
   ],
   "source": [
    "xCountry = top10[\"Country\"]\n",
    "ySeriousCritical = top10[\"Total Cases/1 Population\"]\n",
    "top10SortedByTotalCasesPer1M = top10.sort_values(by=\"Total Cases/1 Population\",inplace=True,ascending=False)\n",
    "top10SortedByTotalCasesPer1MX = top10.plot(y=\"Total Cases/1 Population\",kind=\"bar\")\n",
    "_ = top10SortedByTotalCasesPer1MX.set_xticklabels(top10['Country'])\n",
    "plt.xlabel('Country')\n",
    "plt.ylabel('Total Cases/1M Population')"
   ]
  },
  {
   "cell_type": "code",
   "execution_count": null,
   "metadata": {},
   "outputs": [],
   "source": []
  }
 ],
 "metadata": {
  "kernelspec": {
   "display_name": "Python 3",
   "language": "python",
   "name": "python3"
  },
  "language_info": {
   "codemirror_mode": {
    "name": "ipython",
    "version": 3
   },
   "file_extension": ".py",
   "mimetype": "text/x-python",
   "name": "python",
   "nbconvert_exporter": "python",
   "pygments_lexer": "ipython3",
   "version": "3.8.1"
  }
 },
 "nbformat": 4,
 "nbformat_minor": 4
}
