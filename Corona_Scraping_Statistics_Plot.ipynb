{
  "nbformat": 4,
  "nbformat_minor": 0,
  "metadata": {
    "kernelspec": {
      "display_name": "Python 3",
      "language": "python",
      "name": "python3"
    },
    "language_info": {
      "codemirror_mode": {
        "name": "ipython",
        "version": 3
      },
      "file_extension": ".py",
      "mimetype": "text/x-python",
      "name": "python",
      "nbconvert_exporter": "python",
      "pygments_lexer": "ipython3",
      "version": "3.8.1"
    },
    "colab": {
      "name": "Corona-Scraping-Statistics-Plot.ipynb",
      "provenance": [],
      "collapsed_sections": []
    }
  },
  "cells": [
    {
      "cell_type": "code",
      "metadata": {
        "id": "m7JNd3fGoCsx",
        "colab_type": "code",
        "colab": {}
      },
      "source": [
        "import requests\n",
        "from bs4 import BeautifulSoup\n",
        "import pandas as pd\n",
        "import csv\n",
        "from matplotlib import pyplot as plt\n",
        "from matplotlib import style\n",
        "import numpy as np\n",
        "#import plotly.express as px"
      ],
      "execution_count": 0,
      "outputs": []
    },
    {
      "cell_type": "code",
      "metadata": {
        "id": "ok0bEgEsoCs6",
        "colab_type": "code",
        "colab": {}
      },
      "source": [
        "url = 'https://www.worldometers.info/coronavirus/'"
      ],
      "execution_count": 0,
      "outputs": []
    },
    {
      "cell_type": "code",
      "metadata": {
        "id": "hBurwTRyoCtD",
        "colab_type": "code",
        "colab": {}
      },
      "source": [
        "headers = {'User-Agent':'Mozilla/5.0'}"
      ],
      "execution_count": 0,
      "outputs": []
    },
    {
      "cell_type": "code",
      "metadata": {
        "id": "832mSc0uoCtN",
        "colab_type": "code",
        "colab": {}
      },
      "source": [
        "response = requests.get(url, headers=headers)"
      ],
      "execution_count": 0,
      "outputs": []
    },
    {
      "cell_type": "markdown",
      "metadata": {
        "id": "Enc1u354oCtW",
        "colab_type": "text"
      },
      "source": [
        ""
      ]
    },
    {
      "cell_type": "code",
      "metadata": {
        "id": "OhjxUb8noCtY",
        "colab_type": "code",
        "outputId": "2b414c2b-5ee5-4176-d384-c55822e584e1",
        "colab": {
          "base_uri": "https://localhost:8080/",
          "height": 35
        }
      },
      "source": [
        "response.status_code"
      ],
      "execution_count": 345,
      "outputs": [
        {
          "output_type": "execute_result",
          "data": {
            "text/plain": [
              "200"
            ]
          },
          "metadata": {
            "tags": []
          },
          "execution_count": 345
        }
      ]
    },
    {
      "cell_type": "code",
      "metadata": {
        "id": "-miSg-troCth",
        "colab_type": "code",
        "colab": {}
      },
      "source": [
        "soup = BeautifulSoup(response.content, 'html.parser')"
      ],
      "execution_count": 0,
      "outputs": []
    },
    {
      "cell_type": "code",
      "metadata": {
        "id": "Qv6fplVhoCtp",
        "colab_type": "code",
        "colab": {}
      },
      "source": [
        "main_table = soup.find(id='main_table_countries_today')"
      ],
      "execution_count": 0,
      "outputs": []
    },
    {
      "cell_type": "code",
      "metadata": {
        "id": "D6yHfDy4oCtx",
        "colab_type": "code",
        "colab": {}
      },
      "source": [
        "# type(main_table)"
      ],
      "execution_count": 0,
      "outputs": []
    },
    {
      "cell_type": "code",
      "metadata": {
        "id": "cU4xsu_9oCt3",
        "colab_type": "code",
        "colab": {}
      },
      "source": [
        "\n",
        "# for thead in main_table.find_all('thead'):\n",
        "#     for tr in thead.find_all('tr'):\n",
        "#         with open('testfile.csv','w') as o:\n",
        "#             for th in tr.find_all('th'):\n",
        "#                 print(th.text)\n",
        "#                 w = csv.writer(o)\n",
        "#                 w.writerow([th.text])\n"
      ],
      "execution_count": 0,
      "outputs": []
    },
    {
      "cell_type": "code",
      "metadata": {
        "id": "XXbBInX_oCuB",
        "colab_type": "code",
        "colab": {}
      },
      "source": [
        "# for thead in main_table.find_all('thead'):\n",
        "#     for tr in thead.find_all('tr'):\n",
        "# #         with open('testfile.csv','w') as o:\n",
        "#         for th in tr.find_all('th'):\n",
        "#             print(th.text+',',end = '')\n",
        "            "
      ],
      "execution_count": 0,
      "outputs": []
    },
    {
      "cell_type": "code",
      "metadata": {
        "id": "OO5MaJS3oCuK",
        "colab_type": "code",
        "colab": {}
      },
      "source": [
        "# with open('testfile.csv','w') as o:\n",
        "#     w = csv.writer(o)\n",
        "#     w.writerow([th.text])\n",
        "#     for r in tr:\n",
        "#         w.writerow([r])\n",
        "    "
      ],
      "execution_count": 0,
      "outputs": []
    },
    {
      "cell_type": "code",
      "metadata": {
        "id": "o0j6AwwxoCuT",
        "colab_type": "code",
        "colab": {}
      },
      "source": [
        "i=0\n",
        "with open('textfile.txt','w') as r:\n",
        "    for tbody in main_table.find_all('tbody'):\n",
        "        for row in tbody.find_all('tr'):\n",
        "            for cell in row.find_all('td'):\n",
        "    #                 cell[0]\n",
        "    #                 print(i)\n",
        "    #                 print(int(cell)%9)\n",
        "                cellText = cell.text.strip()\n",
        "                cellText = cellText.replace(' ','')\n",
        "                cellText = cellText.replace('.','')\n",
        "                cellText = cellText.replace(',','')\n",
        "                cellText = cellText.replace('+','')\n",
        "#                 print(cellText) \n",
        "                r.write(cellText+\" \")\n",
        "            r.write('\\n')\n",
        "    #                 print('\\n')\n",
        "    #                 w = csv.writer(o)\n",
        "    #                 w.writerow([cellText])\n",
        "\n",
        "    #                 if(i==0):\n",
        "    #                     break;\n",
        "    # #                     print('\\n')\n",
        "\n",
        "        #             with open('testfile.csv','w') as o:\n",
        "        #                 w = csv.writer(o)\n",
        "        #                 w.writerow([cell.text]"
      ],
      "execution_count": 0,
      "outputs": []
    },
    {
      "cell_type": "code",
      "metadata": {
        "id": "gzgd-yL4oCuZ",
        "colab_type": "code",
        "colab": {}
      },
      "source": [
        "text_file = \"textfile.txt\"\n",
        "csv_file=r\"convertedfile.csv\"\n",
        "\n",
        "in_text = csv.reader(open(text_file,\"r\"), delimiter=' ')\n",
        "out_csv = csv.writer(open(csv_file,\"w\"))\n",
        "\n",
        "out_csv.writerows(in_text)"
      ],
      "execution_count": 0,
      "outputs": []
    },
    {
      "cell_type": "code",
      "metadata": {
        "id": "OXiaxC4qoCug",
        "colab_type": "code",
        "colab": {}
      },
      "source": [
        "# with open('convertedfile.csv',newline='') as f:\n",
        "#     r=csv.reader(f)\n",
        "#     data = [line for line in r]\n",
        "    \n",
        "# with open ('convertedfile.csv','w',newline='') as f:\n",
        "#     w=csv.writer(f)\n",
        "#     w.writerow([\"Country\",\"Total Cases\",\"New Cases\",\"Total Deaths\",\"New Deaths\",\"Total Recovered\",\"Active Cases\",\"Serious/Critical\",\"Total Cases/1 Population\"])\n",
        "#     w.writerows(data)"
      ],
      "execution_count": 0,
      "outputs": []
    },
    {
      "cell_type": "code",
      "metadata": {
        "id": "lslZ_H9PoCun",
        "colab_type": "code",
        "colab": {}
      },
      "source": [
        "# f = open(csv_file,\"w\")\n",
        "# writer = csv.DictWriter(f,fieldnames=[\"Country\",\"Total Cases\",\"New Cases\",\"Total Deaths\",\"New Deaths\",\"Total Recovered\",\"Active Cases\",\"Serious/Critical\",\"Total Cases/1M Population\"])\n",
        "# writer.writeheader()\n",
        "# f.close()"
      ],
      "execution_count": 0,
      "outputs": []
    },
    {
      "cell_type": "code",
      "metadata": {
        "id": "wdJYWKYDoCux",
        "colab_type": "code",
        "colab": {}
      },
      "source": [
        "# reader = csv.DictReader(open('convertedfile.csv'))\n",
        "# writer = csv.DictWriter(open('cleanfile.csv', 'w'), fieldnames=reader.fieldnames)\n",
        "\n",
        "# for row in reader:\n",
        "#     if all(col != '' for col in row.values()):\n",
        "#         continue\n",
        "\n",
        "#     writer.writerow(row)"
      ],
      "execution_count": 0,
      "outputs": []
    },
    {
      "cell_type": "code",
      "metadata": {
        "id": "3uaLX0gKoCu3",
        "colab_type": "code",
        "colab": {}
      },
      "source": [
        ""
      ],
      "execution_count": 0,
      "outputs": []
    },
    {
      "cell_type": "code",
      "metadata": {
        "id": "-k9HWjVkoCu-",
        "colab_type": "code",
        "colab": {}
      },
      "source": [
        "df = pd.read_csv(csv_file,encoding='iso-8859-1',index_col=0)"
      ],
      "execution_count": 0,
      "outputs": []
    },
    {
      "cell_type": "code",
      "metadata": {
        "id": "viGBc86voCvE",
        "colab_type": "code",
        "outputId": "51732ef0-1a6e-4b56-dff7-5c4d6a7fa1cc",
        "colab": {
          "base_uri": "https://localhost:8080/",
          "height": 35
        }
      },
      "source": [
        "df.shape"
      ],
      "execution_count": 358,
      "outputs": [
        {
          "output_type": "execute_result",
          "data": {
            "text/plain": [
              "(230, 15)"
            ]
          },
          "metadata": {
            "tags": []
          },
          "execution_count": 358
        }
      ]
    },
    {
      "cell_type": "code",
      "metadata": {
        "id": "TB6NhnSuoCvK",
        "colab_type": "code",
        "colab": {}
      },
      "source": [
        "#df.head(10)"
      ],
      "execution_count": 0,
      "outputs": []
    },
    {
      "cell_type": "code",
      "metadata": {
        "id": "__dFmphxG0eK",
        "colab_type": "code",
        "colab": {}
      },
      "source": [
        "df = df.iloc[7:]"
      ],
      "execution_count": 0,
      "outputs": []
    },
    {
      "cell_type": "code",
      "metadata": {
        "id": "1nlbUOG_HDXx",
        "colab_type": "code",
        "colab": {}
      },
      "source": [
        "#df"
      ],
      "execution_count": 0,
      "outputs": []
    },
    {
      "cell_type": "code",
      "metadata": {
        "id": "H-r7gwpHHn76",
        "colab_type": "code",
        "colab": {}
      },
      "source": [
        "df = df.drop(df.columns[[9,10,11,12,13,14]],axis=1)"
      ],
      "execution_count": 0,
      "outputs": []
    },
    {
      "cell_type": "markdown",
      "metadata": {
        "id": "nrZWJsiMGy8a",
        "colab_type": "text"
      },
      "source": [
        ""
      ]
    },
    {
      "cell_type": "code",
      "metadata": {
        "id": "4KP01Fp3oCvS",
        "colab_type": "code",
        "colab": {}
      },
      "source": [
        "#df"
      ],
      "execution_count": 0,
      "outputs": []
    },
    {
      "cell_type": "code",
      "metadata": {
        "id": "R1MbAZkToCvY",
        "colab_type": "code",
        "colab": {}
      },
      "source": [
        "#df.head()"
      ],
      "execution_count": 0,
      "outputs": []
    },
    {
      "cell_type": "code",
      "metadata": {
        "id": "CsGtJgfHoCvf",
        "colab_type": "code",
        "outputId": "0f8c699d-d4ae-41ea-ceb0-9ebacebd1c88",
        "colab": {
          "base_uri": "https://localhost:8080/",
          "height": 35
        }
      },
      "source": [
        "df.shape"
      ],
      "execution_count": 365,
      "outputs": [
        {
          "output_type": "execute_result",
          "data": {
            "text/plain": [
              "(223, 9)"
            ]
          },
          "metadata": {
            "tags": []
          },
          "execution_count": 365
        }
      ]
    },
    {
      "cell_type": "code",
      "metadata": {
        "id": "JQPpFWiuL_Yr",
        "colab_type": "code",
        "colab": {
          "base_uri": "https://localhost:8080/",
          "height": 424
        },
        "outputId": "6fa27819-baa3-4b2a-eb8f-3a6301cc2c73"
      },
      "source": [
        "df"
      ],
      "execution_count": 366,
      "outputs": [
        {
          "output_type": "execute_result",
          "data": {
            "text/html": [
              "<div>\n",
              "<style scoped>\n",
              "    .dataframe tbody tr th:only-of-type {\n",
              "        vertical-align: middle;\n",
              "    }\n",
              "\n",
              "    .dataframe tbody tr th {\n",
              "        vertical-align: top;\n",
              "    }\n",
              "\n",
              "    .dataframe thead th {\n",
              "        text-align: right;\n",
              "    }\n",
              "</style>\n",
              "<table border=\"1\" class=\"dataframe\">\n",
              "  <thead>\n",
              "    <tr style=\"text-align: right;\">\n",
              "      <th></th>\n",
              "      <th>NorthAmerica</th>\n",
              "      <th>1880853</th>\n",
              "      <th>3504</th>\n",
              "      <th>114394</th>\n",
              "      <th>225</th>\n",
              "      <th>562629</th>\n",
              "      <th>1203830</th>\n",
              "      <th>18270</th>\n",
              "      <th>Unnamed: 9</th>\n",
              "    </tr>\n",
              "  </thead>\n",
              "  <tbody>\n",
              "    <tr>\n",
              "      <th>1</th>\n",
              "      <td>USA</td>\n",
              "      <td>1686436.0</td>\n",
              "      <td>NaN</td>\n",
              "      <td>99300.0</td>\n",
              "      <td>NaN</td>\n",
              "      <td>451702.0</td>\n",
              "      <td>1135434.0</td>\n",
              "      <td>17135.0</td>\n",
              "      <td>5098.0</td>\n",
              "    </tr>\n",
              "    <tr>\n",
              "      <th>2</th>\n",
              "      <td>Brazil</td>\n",
              "      <td>365213.0</td>\n",
              "      <td>1595.0</td>\n",
              "      <td>22746.0</td>\n",
              "      <td>30.0</td>\n",
              "      <td>149911.0</td>\n",
              "      <td>192556.0</td>\n",
              "      <td>8318.0</td>\n",
              "      <td>1719.0</td>\n",
              "    </tr>\n",
              "    <tr>\n",
              "      <th>3</th>\n",
              "      <td>Russia</td>\n",
              "      <td>344481.0</td>\n",
              "      <td>NaN</td>\n",
              "      <td>3541.0</td>\n",
              "      <td>NaN</td>\n",
              "      <td>113299.0</td>\n",
              "      <td>227641.0</td>\n",
              "      <td>2300.0</td>\n",
              "      <td>2361.0</td>\n",
              "    </tr>\n",
              "    <tr>\n",
              "      <th>4</th>\n",
              "      <td>Spain</td>\n",
              "      <td>282852.0</td>\n",
              "      <td>NaN</td>\n",
              "      <td>28752.0</td>\n",
              "      <td>NaN</td>\n",
              "      <td>196958.0</td>\n",
              "      <td>57142.0</td>\n",
              "      <td>854.0</td>\n",
              "      <td>6050.0</td>\n",
              "    </tr>\n",
              "    <tr>\n",
              "      <th>5</th>\n",
              "      <td>UK</td>\n",
              "      <td>259559.0</td>\n",
              "      <td>NaN</td>\n",
              "      <td>36793.0</td>\n",
              "      <td>NaN</td>\n",
              "      <td>NaN</td>\n",
              "      <td>NaN</td>\n",
              "      <td>1559.0</td>\n",
              "      <td>3825.0</td>\n",
              "    </tr>\n",
              "    <tr>\n",
              "      <th>...</th>\n",
              "      <td>...</td>\n",
              "      <td>...</td>\n",
              "      <td>...</td>\n",
              "      <td>...</td>\n",
              "      <td>...</td>\n",
              "      <td>...</td>\n",
              "      <td>...</td>\n",
              "      <td>...</td>\n",
              "      <td>...</td>\n",
              "    </tr>\n",
              "    <tr>\n",
              "      <th>NaN</th>\n",
              "      <td>Total:</td>\n",
              "      <td>961068.0</td>\n",
              "      <td>650.0</td>\n",
              "      <td>27458.0</td>\n",
              "      <td>3.0</td>\n",
              "      <td>559647.0</td>\n",
              "      <td>373963.0</td>\n",
              "      <td>13788.0</td>\n",
              "      <td>NaN</td>\n",
              "    </tr>\n",
              "    <tr>\n",
              "      <th>NaN</th>\n",
              "      <td>Total:</td>\n",
              "      <td>113851.0</td>\n",
              "      <td>195.0</td>\n",
              "      <td>3375.0</td>\n",
              "      <td>19.0</td>\n",
              "      <td>46306.0</td>\n",
              "      <td>64170.0</td>\n",
              "      <td>323.0</td>\n",
              "      <td>NaN</td>\n",
              "    </tr>\n",
              "    <tr>\n",
              "      <th>NaN</th>\n",
              "      <td>Total:</td>\n",
              "      <td>8722.0</td>\n",
              "      <td>NaN</td>\n",
              "      <td>123.0</td>\n",
              "      <td>NaN</td>\n",
              "      <td>8088.0</td>\n",
              "      <td>511.0</td>\n",
              "      <td>6.0</td>\n",
              "      <td>NaN</td>\n",
              "    </tr>\n",
              "    <tr>\n",
              "      <th>NaN</th>\n",
              "      <td>Total:</td>\n",
              "      <td>721.0</td>\n",
              "      <td>NaN</td>\n",
              "      <td>15.0</td>\n",
              "      <td>NaN</td>\n",
              "      <td>651.0</td>\n",
              "      <td>55.0</td>\n",
              "      <td>4.0</td>\n",
              "      <td>NaN</td>\n",
              "    </tr>\n",
              "    <tr>\n",
              "      <th>NaN</th>\n",
              "      <td>Total:</td>\n",
              "      <td>5500694.0</td>\n",
              "      <td>6239.0</td>\n",
              "      <td>346726.0</td>\n",
              "      <td>292.0</td>\n",
              "      <td>2302091.0</td>\n",
              "      <td>2851877.0</td>\n",
              "      <td>53223.0</td>\n",
              "      <td>7057.0</td>\n",
              "    </tr>\n",
              "  </tbody>\n",
              "</table>\n",
              "<p>223 rows × 9 columns</p>\n",
              "</div>"
            ],
            "text/plain": [
              "    NorthAmerica    1880853    3504  ...    1203830    18270  Unnamed: 9\n",
              "1            USA  1686436.0     NaN  ...  1135434.0  17135.0      5098.0\n",
              "2         Brazil   365213.0  1595.0  ...   192556.0   8318.0      1719.0\n",
              "3         Russia   344481.0     NaN  ...   227641.0   2300.0      2361.0\n",
              "4          Spain   282852.0     NaN  ...    57142.0    854.0      6050.0\n",
              "5             UK   259559.0     NaN  ...        NaN   1559.0      3825.0\n",
              "..           ...        ...     ...  ...        ...      ...         ...\n",
              "NaN       Total:   961068.0   650.0  ...   373963.0  13788.0         NaN\n",
              "NaN       Total:   113851.0   195.0  ...    64170.0    323.0         NaN\n",
              "NaN       Total:     8722.0     NaN  ...      511.0      6.0         NaN\n",
              "NaN       Total:      721.0     NaN  ...       55.0      4.0         NaN\n",
              "NaN       Total:  5500694.0  6239.0  ...  2851877.0  53223.0      7057.0\n",
              "\n",
              "[223 rows x 9 columns]"
            ]
          },
          "metadata": {
            "tags": []
          },
          "execution_count": 366
        }
      ]
    },
    {
      "cell_type": "code",
      "metadata": {
        "id": "uYIvHLSRoCvl",
        "colab_type": "code",
        "colab": {}
      },
      "source": [
        "for i in range(0,100):\n",
        "  df.rename({f\"Unnamed: {i}\":\"\"},axis=\"columns\", inplace=True)"
      ],
      "execution_count": 0,
      "outputs": []
    },
    {
      "cell_type": "code",
      "metadata": {
        "id": "7juBizYKoCvq",
        "colab_type": "code",
        "colab": {}
      },
      "source": [
        "#df = df.drop(df.columns[[9]],axis=1,inplace=True)"
      ],
      "execution_count": 0,
      "outputs": []
    },
    {
      "cell_type": "code",
      "metadata": {
        "id": "PVMTjfg5oCvy",
        "colab_type": "code",
        "outputId": "15f8f6ae-47e4-4b9a-9ed1-da5f43e50bf7",
        "colab": {
          "base_uri": "https://localhost:8080/",
          "height": 424
        }
      },
      "source": [
        "df"
      ],
      "execution_count": 368,
      "outputs": [
        {
          "output_type": "execute_result",
          "data": {
            "text/html": [
              "<div>\n",
              "<style scoped>\n",
              "    .dataframe tbody tr th:only-of-type {\n",
              "        vertical-align: middle;\n",
              "    }\n",
              "\n",
              "    .dataframe tbody tr th {\n",
              "        vertical-align: top;\n",
              "    }\n",
              "\n",
              "    .dataframe thead th {\n",
              "        text-align: right;\n",
              "    }\n",
              "</style>\n",
              "<table border=\"1\" class=\"dataframe\">\n",
              "  <thead>\n",
              "    <tr style=\"text-align: right;\">\n",
              "      <th></th>\n",
              "      <th>NorthAmerica</th>\n",
              "      <th>1880853</th>\n",
              "      <th>3504</th>\n",
              "      <th>114394</th>\n",
              "      <th>225</th>\n",
              "      <th>562629</th>\n",
              "      <th>1203830</th>\n",
              "      <th>18270</th>\n",
              "      <th></th>\n",
              "    </tr>\n",
              "  </thead>\n",
              "  <tbody>\n",
              "    <tr>\n",
              "      <th>1</th>\n",
              "      <td>USA</td>\n",
              "      <td>1686436.0</td>\n",
              "      <td>NaN</td>\n",
              "      <td>99300.0</td>\n",
              "      <td>NaN</td>\n",
              "      <td>451702.0</td>\n",
              "      <td>1135434.0</td>\n",
              "      <td>17135.0</td>\n",
              "      <td>5098.0</td>\n",
              "    </tr>\n",
              "    <tr>\n",
              "      <th>2</th>\n",
              "      <td>Brazil</td>\n",
              "      <td>365213.0</td>\n",
              "      <td>1595.0</td>\n",
              "      <td>22746.0</td>\n",
              "      <td>30.0</td>\n",
              "      <td>149911.0</td>\n",
              "      <td>192556.0</td>\n",
              "      <td>8318.0</td>\n",
              "      <td>1719.0</td>\n",
              "    </tr>\n",
              "    <tr>\n",
              "      <th>3</th>\n",
              "      <td>Russia</td>\n",
              "      <td>344481.0</td>\n",
              "      <td>NaN</td>\n",
              "      <td>3541.0</td>\n",
              "      <td>NaN</td>\n",
              "      <td>113299.0</td>\n",
              "      <td>227641.0</td>\n",
              "      <td>2300.0</td>\n",
              "      <td>2361.0</td>\n",
              "    </tr>\n",
              "    <tr>\n",
              "      <th>4</th>\n",
              "      <td>Spain</td>\n",
              "      <td>282852.0</td>\n",
              "      <td>NaN</td>\n",
              "      <td>28752.0</td>\n",
              "      <td>NaN</td>\n",
              "      <td>196958.0</td>\n",
              "      <td>57142.0</td>\n",
              "      <td>854.0</td>\n",
              "      <td>6050.0</td>\n",
              "    </tr>\n",
              "    <tr>\n",
              "      <th>5</th>\n",
              "      <td>UK</td>\n",
              "      <td>259559.0</td>\n",
              "      <td>NaN</td>\n",
              "      <td>36793.0</td>\n",
              "      <td>NaN</td>\n",
              "      <td>NaN</td>\n",
              "      <td>NaN</td>\n",
              "      <td>1559.0</td>\n",
              "      <td>3825.0</td>\n",
              "    </tr>\n",
              "    <tr>\n",
              "      <th>...</th>\n",
              "      <td>...</td>\n",
              "      <td>...</td>\n",
              "      <td>...</td>\n",
              "      <td>...</td>\n",
              "      <td>...</td>\n",
              "      <td>...</td>\n",
              "      <td>...</td>\n",
              "      <td>...</td>\n",
              "      <td>...</td>\n",
              "    </tr>\n",
              "    <tr>\n",
              "      <th>NaN</th>\n",
              "      <td>Total:</td>\n",
              "      <td>961068.0</td>\n",
              "      <td>650.0</td>\n",
              "      <td>27458.0</td>\n",
              "      <td>3.0</td>\n",
              "      <td>559647.0</td>\n",
              "      <td>373963.0</td>\n",
              "      <td>13788.0</td>\n",
              "      <td>NaN</td>\n",
              "    </tr>\n",
              "    <tr>\n",
              "      <th>NaN</th>\n",
              "      <td>Total:</td>\n",
              "      <td>113851.0</td>\n",
              "      <td>195.0</td>\n",
              "      <td>3375.0</td>\n",
              "      <td>19.0</td>\n",
              "      <td>46306.0</td>\n",
              "      <td>64170.0</td>\n",
              "      <td>323.0</td>\n",
              "      <td>NaN</td>\n",
              "    </tr>\n",
              "    <tr>\n",
              "      <th>NaN</th>\n",
              "      <td>Total:</td>\n",
              "      <td>8722.0</td>\n",
              "      <td>NaN</td>\n",
              "      <td>123.0</td>\n",
              "      <td>NaN</td>\n",
              "      <td>8088.0</td>\n",
              "      <td>511.0</td>\n",
              "      <td>6.0</td>\n",
              "      <td>NaN</td>\n",
              "    </tr>\n",
              "    <tr>\n",
              "      <th>NaN</th>\n",
              "      <td>Total:</td>\n",
              "      <td>721.0</td>\n",
              "      <td>NaN</td>\n",
              "      <td>15.0</td>\n",
              "      <td>NaN</td>\n",
              "      <td>651.0</td>\n",
              "      <td>55.0</td>\n",
              "      <td>4.0</td>\n",
              "      <td>NaN</td>\n",
              "    </tr>\n",
              "    <tr>\n",
              "      <th>NaN</th>\n",
              "      <td>Total:</td>\n",
              "      <td>5500694.0</td>\n",
              "      <td>6239.0</td>\n",
              "      <td>346726.0</td>\n",
              "      <td>292.0</td>\n",
              "      <td>2302091.0</td>\n",
              "      <td>2851877.0</td>\n",
              "      <td>53223.0</td>\n",
              "      <td>7057.0</td>\n",
              "    </tr>\n",
              "  </tbody>\n",
              "</table>\n",
              "<p>223 rows × 9 columns</p>\n",
              "</div>"
            ],
            "text/plain": [
              "    NorthAmerica    1880853    3504  ...    1203830    18270        \n",
              "1            USA  1686436.0     NaN  ...  1135434.0  17135.0  5098.0\n",
              "2         Brazil   365213.0  1595.0  ...   192556.0   8318.0  1719.0\n",
              "3         Russia   344481.0     NaN  ...   227641.0   2300.0  2361.0\n",
              "4          Spain   282852.0     NaN  ...    57142.0    854.0  6050.0\n",
              "5             UK   259559.0     NaN  ...        NaN   1559.0  3825.0\n",
              "..           ...        ...     ...  ...        ...      ...     ...\n",
              "NaN       Total:   961068.0   650.0  ...   373963.0  13788.0     NaN\n",
              "NaN       Total:   113851.0   195.0  ...    64170.0    323.0     NaN\n",
              "NaN       Total:     8722.0     NaN  ...      511.0      6.0     NaN\n",
              "NaN       Total:      721.0     NaN  ...       55.0      4.0     NaN\n",
              "NaN       Total:  5500694.0  6239.0  ...  2851877.0  53223.0  7057.0\n",
              "\n",
              "[223 rows x 9 columns]"
            ]
          },
          "metadata": {
            "tags": []
          },
          "execution_count": 368
        }
      ]
    },
    {
      "cell_type": "code",
      "metadata": {
        "id": "B1tnpq5IECJl",
        "colab_type": "code",
        "colab": {
          "base_uri": "https://localhost:8080/",
          "height": 35
        },
        "outputId": "913b9e7e-0663-4042-ac97-3adf585286c5"
      },
      "source": [
        "df.shape"
      ],
      "execution_count": 369,
      "outputs": [
        {
          "output_type": "execute_result",
          "data": {
            "text/plain": [
              "(223, 9)"
            ]
          },
          "metadata": {
            "tags": []
          },
          "execution_count": 369
        }
      ]
    },
    {
      "cell_type": "code",
      "metadata": {
        "id": "N75ZhMIDKhrE",
        "colab_type": "code",
        "colab": {
          "base_uri": "https://localhost:8080/",
          "height": 363
        },
        "outputId": "acaad10f-a933-445c-9920-d1a7d5fc6918"
      },
      "source": [
        "df.dropna()"
      ],
      "execution_count": 370,
      "outputs": [
        {
          "output_type": "execute_result",
          "data": {
            "text/html": [
              "<div>\n",
              "<style scoped>\n",
              "    .dataframe tbody tr th:only-of-type {\n",
              "        vertical-align: middle;\n",
              "    }\n",
              "\n",
              "    .dataframe tbody tr th {\n",
              "        vertical-align: top;\n",
              "    }\n",
              "\n",
              "    .dataframe thead th {\n",
              "        text-align: right;\n",
              "    }\n",
              "</style>\n",
              "<table border=\"1\" class=\"dataframe\">\n",
              "  <thead>\n",
              "    <tr style=\"text-align: right;\">\n",
              "      <th></th>\n",
              "      <th>NorthAmerica</th>\n",
              "      <th>1880853</th>\n",
              "      <th>3504</th>\n",
              "      <th>114394</th>\n",
              "      <th>225</th>\n",
              "      <th>562629</th>\n",
              "      <th>1203830</th>\n",
              "      <th>18270</th>\n",
              "      <th></th>\n",
              "    </tr>\n",
              "  </thead>\n",
              "  <tbody>\n",
              "    <tr>\n",
              "      <th>2</th>\n",
              "      <td>Brazil</td>\n",
              "      <td>365213.0</td>\n",
              "      <td>1595.0</td>\n",
              "      <td>22746.0</td>\n",
              "      <td>30.0</td>\n",
              "      <td>149911.0</td>\n",
              "      <td>192556.0</td>\n",
              "      <td>8318.0</td>\n",
              "      <td>1719.0</td>\n",
              "    </tr>\n",
              "    <tr>\n",
              "      <th>16</th>\n",
              "      <td>Mexico</td>\n",
              "      <td>68620.0</td>\n",
              "      <td>2764.0</td>\n",
              "      <td>7394.0</td>\n",
              "      <td>215.0</td>\n",
              "      <td>47424.0</td>\n",
              "      <td>13802.0</td>\n",
              "      <td>378.0</td>\n",
              "      <td>533.0</td>\n",
              "    </tr>\n",
              "    <tr>\n",
              "      <th>45</th>\n",
              "      <td>SKorea</td>\n",
              "      <td>11206.0</td>\n",
              "      <td>16.0</td>\n",
              "      <td>267.0</td>\n",
              "      <td>1.0</td>\n",
              "      <td>10226.0</td>\n",
              "      <td>713.0</td>\n",
              "      <td>15.0</td>\n",
              "      <td>219.0</td>\n",
              "    </tr>\n",
              "    <tr>\n",
              "      <th>63</th>\n",
              "      <td>Bolivia</td>\n",
              "      <td>6263.0</td>\n",
              "      <td>348.0</td>\n",
              "      <td>250.0</td>\n",
              "      <td>10.0</td>\n",
              "      <td>629.0</td>\n",
              "      <td>5384.0</td>\n",
              "      <td>3.0</td>\n",
              "      <td>537.0</td>\n",
              "    </tr>\n",
              "    <tr>\n",
              "      <th>68</th>\n",
              "      <td>Honduras</td>\n",
              "      <td>3950.0</td>\n",
              "      <td>207.0</td>\n",
              "      <td>180.0</td>\n",
              "      <td>6.0</td>\n",
              "      <td>468.0</td>\n",
              "      <td>3302.0</td>\n",
              "      <td>13.0</td>\n",
              "      <td>399.0</td>\n",
              "    </tr>\n",
              "    <tr>\n",
              "      <th>70</th>\n",
              "      <td>Hungary</td>\n",
              "      <td>3756.0</td>\n",
              "      <td>15.0</td>\n",
              "      <td>491.0</td>\n",
              "      <td>5.0</td>\n",
              "      <td>1711.0</td>\n",
              "      <td>1554.0</td>\n",
              "      <td>28.0</td>\n",
              "      <td>389.0</td>\n",
              "    </tr>\n",
              "    <tr>\n",
              "      <th>71</th>\n",
              "      <td>Guatemala</td>\n",
              "      <td>3424.0</td>\n",
              "      <td>370.0</td>\n",
              "      <td>58.0</td>\n",
              "      <td>3.0</td>\n",
              "      <td>258.0</td>\n",
              "      <td>3108.0</td>\n",
              "      <td>5.0</td>\n",
              "      <td>192.0</td>\n",
              "    </tr>\n",
              "    <tr>\n",
              "      <th>75</th>\n",
              "      <td>Thailand</td>\n",
              "      <td>3042.0</td>\n",
              "      <td>2.0</td>\n",
              "      <td>57.0</td>\n",
              "      <td>1.0</td>\n",
              "      <td>2928.0</td>\n",
              "      <td>57.0</td>\n",
              "      <td>61.0</td>\n",
              "      <td>44.0</td>\n",
              "    </tr>\n",
              "    <tr>\n",
              "      <th>96</th>\n",
              "      <td>Kyrgyzstan</td>\n",
              "      <td>1433.0</td>\n",
              "      <td>30.0</td>\n",
              "      <td>16.0</td>\n",
              "      <td>2.0</td>\n",
              "      <td>992.0</td>\n",
              "      <td>425.0</td>\n",
              "      <td>5.0</td>\n",
              "      <td>220.0</td>\n",
              "    </tr>\n",
              "    <tr>\n",
              "      <th>NaN</th>\n",
              "      <td>Total:</td>\n",
              "      <td>5500694.0</td>\n",
              "      <td>6239.0</td>\n",
              "      <td>346726.0</td>\n",
              "      <td>292.0</td>\n",
              "      <td>2302091.0</td>\n",
              "      <td>2851877.0</td>\n",
              "      <td>53223.0</td>\n",
              "      <td>7057.0</td>\n",
              "    </tr>\n",
              "  </tbody>\n",
              "</table>\n",
              "</div>"
            ],
            "text/plain": [
              "    NorthAmerica    1880853    3504  ...    1203830    18270        \n",
              "2         Brazil   365213.0  1595.0  ...   192556.0   8318.0  1719.0\n",
              "16        Mexico    68620.0  2764.0  ...    13802.0    378.0   533.0\n",
              "45        SKorea    11206.0    16.0  ...      713.0     15.0   219.0\n",
              "63       Bolivia     6263.0   348.0  ...     5384.0      3.0   537.0\n",
              "68      Honduras     3950.0   207.0  ...     3302.0     13.0   399.0\n",
              "70       Hungary     3756.0    15.0  ...     1554.0     28.0   389.0\n",
              "71     Guatemala     3424.0   370.0  ...     3108.0      5.0   192.0\n",
              "75      Thailand     3042.0     2.0  ...       57.0     61.0    44.0\n",
              "96    Kyrgyzstan     1433.0    30.0  ...      425.0      5.0   220.0\n",
              "NaN       Total:  5500694.0  6239.0  ...  2851877.0  53223.0  7057.0\n",
              "\n",
              "[10 rows x 9 columns]"
            ]
          },
          "metadata": {
            "tags": []
          },
          "execution_count": 370
        }
      ]
    },
    {
      "cell_type": "code",
      "metadata": {
        "id": "Ymlxds8ZoCv5",
        "colab_type": "code",
        "colab": {}
      },
      "source": [
        "df.to_csv('modified_df.csv')"
      ],
      "execution_count": 0,
      "outputs": []
    },
    {
      "cell_type": "code",
      "metadata": {
        "id": "mbYu-IxpoCwA",
        "colab_type": "code",
        "colab": {}
      },
      "source": [
        "with open('modified_df.csv',newline='') as f:\n",
        "    r=csv.reader(f)\n",
        "    data = [line for line in r]\n",
        "    \n",
        "with open ('modified_df.csv','w',newline='') as f:\n",
        "    w=csv.writer(f)\n",
        "    w.writerow([\"Country\",\"Total Cases\",\"New Cases\",\"Total Deaths\",\"New Deaths\",\"Total Recovered\",\"Active Cases\",\"Serious/Critical\",\"Total Cases/1 Population\"])\n",
        "    w.writerows(data)"
      ],
      "execution_count": 0,
      "outputs": []
    },
    {
      "cell_type": "code",
      "metadata": {
        "id": "ZNy3-K3wJp8q",
        "colab_type": "code",
        "colab": {}
      },
      "source": [
        "#df"
      ],
      "execution_count": 0,
      "outputs": []
    },
    {
      "cell_type": "code",
      "metadata": {
        "id": "RKqqeQHmoCwF",
        "colab_type": "code",
        "colab": {}
      },
      "source": [
        "#df.shape"
      ],
      "execution_count": 0,
      "outputs": []
    },
    {
      "cell_type": "code",
      "metadata": {
        "id": "DKwENb_XoCwL",
        "colab_type": "code",
        "colab": {}
      },
      "source": [
        "#df.head(10)"
      ],
      "execution_count": 0,
      "outputs": []
    },
    {
      "cell_type": "code",
      "metadata": {
        "id": "yQ_E6e4fE0tx",
        "colab_type": "code",
        "colab": {}
      },
      "source": [
        "#df.dropna()"
      ],
      "execution_count": 0,
      "outputs": []
    },
    {
      "cell_type": "code",
      "metadata": {
        "id": "3TK6Ti9SFQcx",
        "colab_type": "code",
        "colab": {
          "base_uri": "https://localhost:8080/",
          "height": 35
        },
        "outputId": "315bda15-66ee-4b34-f453-eaa01b936e61"
      },
      "source": [
        "df.shape"
      ],
      "execution_count": 377,
      "outputs": [
        {
          "output_type": "execute_result",
          "data": {
            "text/plain": [
              "(223, 9)"
            ]
          },
          "metadata": {
            "tags": []
          },
          "execution_count": 377
        }
      ]
    },
    {
      "cell_type": "code",
      "metadata": {
        "id": "iw8Twrw1oCwQ",
        "colab_type": "code",
        "colab": {}
      },
      "source": [
        "mod_df = pd.read_csv('modified_df.csv',encoding='iso-8859-1')"
      ],
      "execution_count": 0,
      "outputs": []
    },
    {
      "cell_type": "code",
      "metadata": {
        "id": "uOWImR-0oCwY",
        "colab_type": "code",
        "colab": {}
      },
      "source": [
        "#mod_df"
      ],
      "execution_count": 0,
      "outputs": []
    },
    {
      "cell_type": "code",
      "metadata": {
        "id": "RTM-Z4QsITar",
        "colab_type": "code",
        "colab": {}
      },
      "source": [
        "mod_df = mod_df.iloc[1:]"
      ],
      "execution_count": 0,
      "outputs": []
    },
    {
      "cell_type": "code",
      "metadata": {
        "id": "8HeRRebjIX0i",
        "colab_type": "code",
        "colab": {}
      },
      "source": [
        "#mod_df"
      ],
      "execution_count": 0,
      "outputs": []
    },
    {
      "cell_type": "code",
      "metadata": {
        "id": "e9hYSziZoCwh",
        "colab_type": "code",
        "colab": {}
      },
      "source": [
        "top10 = mod_df.head(10)"
      ],
      "execution_count": 0,
      "outputs": []
    },
    {
      "cell_type": "code",
      "metadata": {
        "id": "SJmQ_b30oCwp",
        "colab_type": "code",
        "colab": {}
      },
      "source": [
        "#top10"
      ],
      "execution_count": 0,
      "outputs": []
    },
    {
      "cell_type": "code",
      "metadata": {
        "id": "IpE3sEyToCwu",
        "colab_type": "code",
        "colab": {}
      },
      "source": [
        "bottom10 = mod_df.tail(10)"
      ],
      "execution_count": 0,
      "outputs": []
    },
    {
      "cell_type": "code",
      "metadata": {
        "id": "zv7tRswIoCw6",
        "colab_type": "code",
        "colab": {}
      },
      "source": [
        "#bottom10"
      ],
      "execution_count": 0,
      "outputs": []
    },
    {
      "cell_type": "code",
      "metadata": {
        "id": "qY1fnnqToCxB",
        "colab_type": "code",
        "colab": {}
      },
      "source": [
        "xCountry=top10[\"Country\"]\n",
        "yTotalCases=top10[\"Total Cases\"]"
      ],
      "execution_count": 0,
      "outputs": []
    },
    {
      "cell_type": "code",
      "metadata": {
        "id": "LrAg_pFuoCxI",
        "colab_type": "code",
        "colab": {}
      },
      "source": [
        "plt.rcParams['figure.figsize'] = (14,8)"
      ],
      "execution_count": 0,
      "outputs": []
    },
    {
      "cell_type": "code",
      "metadata": {
        "id": "2G-xqyGqoCxO",
        "colab_type": "code",
        "outputId": "52ca04bd-17cd-46d8-a54d-5cc006d999ee",
        "colab": {
          "base_uri": "https://localhost:8080/",
          "height": 526
        }
      },
      "source": [
        "plt.xlabel('Country')\n",
        "plt.ylabel('Total Cases')\n",
        "plt.bar(xCountry,yTotalCases)\n",
        "#y_pos = [0,10,20,30,40,50,60,70,80,90]\n",
        "#plt.bar(y_pos,y)\n",
        "#plt.xticks(y_pos,x)"
      ],
      "execution_count": 388,
      "outputs": [
        {
          "output_type": "execute_result",
          "data": {
            "text/plain": [
              "<BarContainer object of 10 artists>"
            ]
          },
          "metadata": {
            "tags": []
          },
          "execution_count": 388
        },
        {
          "output_type": "display_data",
          "data": {
            "image/png": "[encoded data removed]",
            "text/plain": [
              "<Figure size 1008x576 with 1 Axes>"
            ]
          },
          "metadata": {
            "tags": [],
            "needs_background": "light"
          }
        }
      ]
    },
    {
      "cell_type": "code",
      "metadata": {
        "id": "u0W0TWzaoCxU",
        "colab_type": "code",
        "outputId": "f49f1948-f0b5-4905-998d-590ef3338288",
        "colab": {
          "base_uri": "https://localhost:8080/",
          "height": 642
        }
      },
      "source": [
        "xCountry = top10[\"Country\"]\n",
        "yNewCases = top10[\"New Cases\"]\n",
        "top10SortedByNewCases = top10.sort_values(by=\"New Cases\",inplace=True,ascending=False)\n",
        "top10SortedByNewCasesX = top10.plot(y=\"New Cases\",kind=\"bar\")\n",
        "_ = top10SortedByNewCasesX.set_xticklabels(top10['Country'])\n",
        "plt.xlabel('Country')\n",
        "plt.ylabel('New Cases')"
      ],
      "execution_count": 284,
      "outputs": [
        {
          "output_type": "stream",
          "text": [
            "/usr/local/lib/python3.6/dist-packages/ipykernel_launcher.py:3: SettingWithCopyWarning: \n",
            "A value is trying to be set on a copy of a slice from a DataFrame\n",
            "\n",
            "See the caveats in the documentation: https://pandas.pydata.org/pandas-docs/stable/user_guide/indexing.html#returning-a-view-versus-a-copy\n",
            "  This is separate from the ipykernel package so we can avoid doing imports until\n"
          ],
          "name": "stderr"
        },
        {
          "output_type": "execute_result",
          "data": {
            "text/plain": [
              "Text(0, 0.5, 'New Cases')"
            ]
          },
          "metadata": {
            "tags": []
          },
          "execution_count": 284
        },
        {
          "output_type": "display_data",
          "data": {
            "image/png": "[encoded data removed]",
            "text/plain": [
              "<Figure size 1008x576 with 1 Axes>"
            ]
          },
          "metadata": {
            "tags": [],
            "needs_background": "light"
          }
        }
      ]
    },
    {
      "cell_type": "code",
      "metadata": {
        "id": "XLs4qaZ6oCxd",
        "colab_type": "code",
        "outputId": "a80f30f3-6b73-494d-b2d5-57ca5407ba14",
        "colab": {
          "base_uri": "https://localhost:8080/",
          "height": 642
        }
      },
      "source": [
        "xCountry = top10[\"Country\"]\n",
        "yTotalDeaths = top10[\"Total Deaths\"]\n",
        "top10SortedByTotalDeaths = top10.sort_values(by=\"Total Deaths\",inplace=True,ascending=False)\n",
        "top10SortedByTotalDeathsX = top10.plot(y=\"Total Deaths\",kind=\"bar\")\n",
        "_ = top10SortedByTotalDeathsX.set_xticklabels(top10['Country'])\n",
        "plt.xlabel('Country')\n",
        "plt.ylabel('Total Deaths')"
      ],
      "execution_count": 285,
      "outputs": [
        {
          "output_type": "stream",
          "text": [
            "/usr/local/lib/python3.6/dist-packages/ipykernel_launcher.py:3: SettingWithCopyWarning: \n",
            "A value is trying to be set on a copy of a slice from a DataFrame\n",
            "\n",
            "See the caveats in the documentation: https://pandas.pydata.org/pandas-docs/stable/user_guide/indexing.html#returning-a-view-versus-a-copy\n",
            "  This is separate from the ipykernel package so we can avoid doing imports until\n"
          ],
          "name": "stderr"
        },
        {
          "output_type": "execute_result",
          "data": {
            "text/plain": [
              "Text(0, 0.5, 'Total Deaths')"
            ]
          },
          "metadata": {
            "tags": []
          },
          "execution_count": 285
        },
        {
          "output_type": "display_data",
          "data": {
            "image/png": "[encoded data removed]",
            "text/plain": [
              "<Figure size 1008x576 with 1 Axes>"
            ]
          },
          "metadata": {
            "tags": [],
            "needs_background": "light"
          }
        }
      ]
    },
    {
      "cell_type": "code",
      "metadata": {
        "id": "HQKvNv1UoCxk",
        "colab_type": "code",
        "outputId": "5bdb0b0c-c52f-49e3-d566-9844783b3287",
        "colab": {
          "base_uri": "https://localhost:8080/",
          "height": 642
        }
      },
      "source": [
        "xCountry = top10[\"Country\"]\n",
        "yNewDeaths = top10[\"New Deaths\"]\n",
        "top10SortedByNewDeaths = top10.sort_values(by=\"New Deaths\",inplace=True,ascending=False)\n",
        "top10SortedByNewDeathsX = top10.plot(y=\"New Deaths\",kind=\"bar\")\n",
        "_ = top10SortedByNewDeathsX.set_xticklabels(top10['Country'])\n",
        "plt.xlabel('Country')\n",
        "plt.ylabel('New Deaths')"
      ],
      "execution_count": 286,
      "outputs": [
        {
          "output_type": "stream",
          "text": [
            "/usr/local/lib/python3.6/dist-packages/ipykernel_launcher.py:3: SettingWithCopyWarning: \n",
            "A value is trying to be set on a copy of a slice from a DataFrame\n",
            "\n",
            "See the caveats in the documentation: https://pandas.pydata.org/pandas-docs/stable/user_guide/indexing.html#returning-a-view-versus-a-copy\n",
            "  This is separate from the ipykernel package so we can avoid doing imports until\n"
          ],
          "name": "stderr"
        },
        {
          "output_type": "execute_result",
          "data": {
            "text/plain": [
              "Text(0, 0.5, 'New Deaths')"
            ]
          },
          "metadata": {
            "tags": []
          },
          "execution_count": 286
        },
        {
          "output_type": "display_data",
          "data": {
            "image/png": "[encoded data removed]",
            "text/plain": [
              "<Figure size 1008x576 with 1 Axes>"
            ]
          },
          "metadata": {
            "tags": [],
            "needs_background": "light"
          }
        }
      ]
    },
    {
      "cell_type": "code",
      "metadata": {
        "id": "GPx6mq_IoCxv",
        "colab_type": "code",
        "colab": {}
      },
      "source": [
        "# plt.xlabel('Country')\n",
        "# plt.ylabel('New Cases')\n",
        "# plt.bar(xCountry,yNewCases)"
      ],
      "execution_count": 0,
      "outputs": []
    },
    {
      "cell_type": "code",
      "metadata": {
        "id": "C7bhqKSxoCx0",
        "colab_type": "code",
        "outputId": "c9b69a40-e123-4b1a-9008-20913e8c9cba",
        "colab": {
          "base_uri": "https://localhost:8080/",
          "height": 642
        }
      },
      "source": [
        "xCountry = top10[\"Country\"]\n",
        "yTotalRecovered = top10[\"Total Recovered\"]\n",
        "top10SortedByTotalRecovered = top10.sort_values(by=\"Total Recovered\",inplace=True,ascending=False)\n",
        "top10SortedByTotalRecoveredX = top10.plot(y=\"Total Recovered\",kind=\"bar\")\n",
        "_ = top10SortedByTotalRecoveredX.set_xticklabels(top10['Country'])\n",
        "plt.xlabel('Country')\n",
        "plt.ylabel('Total Recovered')"
      ],
      "execution_count": 288,
      "outputs": [
        {
          "output_type": "stream",
          "text": [
            "/usr/local/lib/python3.6/dist-packages/ipykernel_launcher.py:3: SettingWithCopyWarning: \n",
            "A value is trying to be set on a copy of a slice from a DataFrame\n",
            "\n",
            "See the caveats in the documentation: https://pandas.pydata.org/pandas-docs/stable/user_guide/indexing.html#returning-a-view-versus-a-copy\n",
            "  This is separate from the ipykernel package so we can avoid doing imports until\n"
          ],
          "name": "stderr"
        },
        {
          "output_type": "execute_result",
          "data": {
            "text/plain": [
              "Text(0, 0.5, 'Total Recovered')"
            ]
          },
          "metadata": {
            "tags": []
          },
          "execution_count": 288
        },
        {
          "output_type": "display_data",
          "data": {
            "image/png": "[encoded data removed]",
            "text/plain": [
              "<Figure size 1008x576 with 1 Axes>"
            ]
          },
          "metadata": {
            "tags": [],
            "needs_background": "light"
          }
        }
      ]
    },
    {
      "cell_type": "code",
      "metadata": {
        "id": "y9N1Pv0BoCx9",
        "colab_type": "code",
        "outputId": "968a22e7-fabf-461d-d8a4-bfbb96d5f5e4",
        "colab": {
          "base_uri": "https://localhost:8080/",
          "height": 653
        }
      },
      "source": [
        "xCountry = top10[\"Country\"]\n",
        "yActiveCases = top10[\"Active Cases\"]\n",
        "top10SortedByActiveCases = top10.sort_values(by=\"Active Cases\",inplace=True,ascending=False)\n",
        "top10SortedByActiveCasesX = top10.plot(y=\"Active Cases\",kind=\"bar\")\n",
        "_ = top10SortedByActiveCasesX.set_xticklabels(top10['Country'])\n",
        "plt.xlabel('Country')\n",
        "plt.ylabel('Active Cases')"
      ],
      "execution_count": 289,
      "outputs": [
        {
          "output_type": "stream",
          "text": [
            "/usr/local/lib/python3.6/dist-packages/ipykernel_launcher.py:3: SettingWithCopyWarning: \n",
            "A value is trying to be set on a copy of a slice from a DataFrame\n",
            "\n",
            "See the caveats in the documentation: https://pandas.pydata.org/pandas-docs/stable/user_guide/indexing.html#returning-a-view-versus-a-copy\n",
            "  This is separate from the ipykernel package so we can avoid doing imports until\n"
          ],
          "name": "stderr"
        },
        {
          "output_type": "execute_result",
          "data": {
            "text/plain": [
              "Text(0, 0.5, 'Active Cases')"
            ]
          },
          "metadata": {
            "tags": []
          },
          "execution_count": 289
        },
        {
          "output_type": "display_data",
          "data": {
            "image/png": "[encoded data removed]",
            "text/plain": [
              "<Figure size 1008x576 with 1 Axes>"
            ]
          },
          "metadata": {
            "tags": [],
            "needs_background": "light"
          }
        }
      ]
    },
    {
      "cell_type": "code",
      "metadata": {
        "id": "xsUaSIlVoCyC",
        "colab_type": "code",
        "outputId": "56e8ed99-f175-4d7f-d1de-84d1d5fe4794",
        "colab": {
          "base_uri": "https://localhost:8080/",
          "height": 642
        }
      },
      "source": [
        "xCountry = top10[\"Country\"]\n",
        "ySeriousCritical = top10[\"Serious/Critical\"]\n",
        "top10SortedBySeriousCritical = top10.sort_values(by=\"Serious/Critical\",inplace=True,ascending=False)\n",
        "top10SortedBySeriousCriticalX = top10.plot(y=\"Serious/Critical\",kind=\"bar\")\n",
        "_ = top10SortedBySeriousCriticalX.set_xticklabels(top10['Country'])\n",
        "plt.xlabel('Country')\n",
        "plt.ylabel('Serious/Critical')"
      ],
      "execution_count": 290,
      "outputs": [
        {
          "output_type": "stream",
          "text": [
            "/usr/local/lib/python3.6/dist-packages/ipykernel_launcher.py:3: SettingWithCopyWarning: \n",
            "A value is trying to be set on a copy of a slice from a DataFrame\n",
            "\n",
            "See the caveats in the documentation: https://pandas.pydata.org/pandas-docs/stable/user_guide/indexing.html#returning-a-view-versus-a-copy\n",
            "  This is separate from the ipykernel package so we can avoid doing imports until\n"
          ],
          "name": "stderr"
        },
        {
          "output_type": "execute_result",
          "data": {
            "text/plain": [
              "Text(0, 0.5, 'Serious/Critical')"
            ]
          },
          "metadata": {
            "tags": []
          },
          "execution_count": 290
        },
        {
          "output_type": "display_data",
          "data": {
            "image/png": "[encoded data removed]",
            "text/plain": [
              "<Figure size 1008x576 with 1 Axes>"
            ]
          },
          "metadata": {
            "tags": [],
            "needs_background": "light"
          }
        }
      ]
    },
    {
      "cell_type": "code",
      "metadata": {
        "id": "S5s2V1b3oCyM",
        "colab_type": "code",
        "colab": {}
      },
      "source": [
        ""
      ],
      "execution_count": 0,
      "outputs": []
    },
    {
      "cell_type": "code",
      "metadata": {
        "id": "RNcU0lP3oCyQ",
        "colab_type": "code",
        "outputId": "2f9ec0ad-9a3b-4edf-e5cb-cbabc481bd8d",
        "colab": {
          "base_uri": "https://localhost:8080/",
          "height": 642
        }
      },
      "source": [
        "xCountry = top10[\"Country\"]\n",
        "ySeriousCritical = top10[\"Total Cases/1 Population\"]\n",
        "top10SortedByTotalCasesPer1M = top10.sort_values(by=\"Total Cases/1 Population\",inplace=True,ascending=False)\n",
        "top10SortedByTotalCasesPer1MX = top10.plot(y=\"Total Cases/1 Population\",kind=\"bar\")\n",
        "_ = top10SortedByTotalCasesPer1MX.set_xticklabels(top10['Country'])\n",
        "plt.xlabel('Country')\n",
        "plt.ylabel('Total Cases/1M Population')"
      ],
      "execution_count": 291,
      "outputs": [
        {
          "output_type": "stream",
          "text": [
            "/usr/local/lib/python3.6/dist-packages/ipykernel_launcher.py:3: SettingWithCopyWarning: \n",
            "A value is trying to be set on a copy of a slice from a DataFrame\n",
            "\n",
            "See the caveats in the documentation: https://pandas.pydata.org/pandas-docs/stable/user_guide/indexing.html#returning-a-view-versus-a-copy\n",
            "  This is separate from the ipykernel package so we can avoid doing imports until\n"
          ],
          "name": "stderr"
        },
        {
          "output_type": "execute_result",
          "data": {
            "text/plain": [
              "Text(0, 0.5, 'Total Cases/1M Population')"
            ]
          },
          "metadata": {
            "tags": []
          },
          "execution_count": 291
        },
        {
          "output_type": "display_data",
          "data": {
            "image/png": "[encoded data removed]",
            "text/plain": [
              "<Figure size 1008x576 with 1 Axes>"
            ]
          },
          "metadata": {
            "tags": [],
            "needs_background": "light"
          }
        }
      ]
    },
    {
      "cell_type": "code",
      "metadata": {
        "id": "mL8sIuf0oCyU",
        "colab_type": "code",
        "colab": {}
      },
      "source": [
        ""
      ],
      "execution_count": 0,
      "outputs": []
    },
    {
      "cell_type": "code",
      "metadata": {
        "id": "xRptQq1JoCyY",
        "colab_type": "code",
        "colab": {}
      },
      "source": [
        ""
      ],
      "execution_count": 0,
      "outputs": []
    },
    {
      "cell_type": "code",
      "metadata": {
        "id": "oImM6wPSoCyd",
        "colab_type": "code",
        "colab": {}
      },
      "source": [
        ""
      ],
      "execution_count": 0,
      "outputs": []
    }
  ]
}